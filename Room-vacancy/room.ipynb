{
 "cells": [
  {
   "cell_type": "code",
   "execution_count": 56,
   "metadata": {},
   "outputs": [],
   "source": [
    "import pandas as pd\n",
    "import seaborn as sns\n",
    "from sklearn.model_selection import train_test_split\n"
   ]
  },
  {
   "cell_type": "code",
   "execution_count": 57,
   "metadata": {},
   "outputs": [
    {
     "data": {
      "text/html": [
       "<div>\n",
       "<style scoped>\n",
       "    .dataframe tbody tr th:only-of-type {\n",
       "        vertical-align: middle;\n",
       "    }\n",
       "\n",
       "    .dataframe tbody tr th {\n",
       "        vertical-align: top;\n",
       "    }\n",
       "\n",
       "    .dataframe thead th {\n",
       "        text-align: right;\n",
       "    }\n",
       "</style>\n",
       "<table border=\"1\" class=\"dataframe\">\n",
       "  <thead>\n",
       "    <tr style=\"text-align: right;\">\n",
       "      <th></th>\n",
       "      <th>Temperature</th>\n",
       "      <th>Humidity</th>\n",
       "      <th>Light</th>\n",
       "      <th>CO2</th>\n",
       "      <th>HumidityRatio</th>\n",
       "      <th>Occupancy</th>\n",
       "    </tr>\n",
       "  </thead>\n",
       "  <tbody>\n",
       "    <tr>\n",
       "      <th>0</th>\n",
       "      <td>23.700000</td>\n",
       "      <td>26.272000</td>\n",
       "      <td>585.200000</td>\n",
       "      <td>749.200000</td>\n",
       "      <td>0.004764</td>\n",
       "      <td>1</td>\n",
       "    </tr>\n",
       "    <tr>\n",
       "      <th>1</th>\n",
       "      <td>23.718000</td>\n",
       "      <td>26.290000</td>\n",
       "      <td>578.400000</td>\n",
       "      <td>760.400000</td>\n",
       "      <td>0.004773</td>\n",
       "      <td>1</td>\n",
       "    </tr>\n",
       "    <tr>\n",
       "      <th>2</th>\n",
       "      <td>23.730000</td>\n",
       "      <td>26.230000</td>\n",
       "      <td>572.666667</td>\n",
       "      <td>769.666667</td>\n",
       "      <td>0.004765</td>\n",
       "      <td>1</td>\n",
       "    </tr>\n",
       "    <tr>\n",
       "      <th>3</th>\n",
       "      <td>23.722500</td>\n",
       "      <td>26.125000</td>\n",
       "      <td>493.750000</td>\n",
       "      <td>774.750000</td>\n",
       "      <td>0.004744</td>\n",
       "      <td>1</td>\n",
       "    </tr>\n",
       "    <tr>\n",
       "      <th>4</th>\n",
       "      <td>23.754000</td>\n",
       "      <td>26.200000</td>\n",
       "      <td>488.600000</td>\n",
       "      <td>779.000000</td>\n",
       "      <td>0.004767</td>\n",
       "      <td>1</td>\n",
       "    </tr>\n",
       "    <tr>\n",
       "      <th>...</th>\n",
       "      <td>...</td>\n",
       "      <td>...</td>\n",
       "      <td>...</td>\n",
       "      <td>...</td>\n",
       "      <td>...</td>\n",
       "      <td>...</td>\n",
       "    </tr>\n",
       "    <tr>\n",
       "      <th>2660</th>\n",
       "      <td>24.290000</td>\n",
       "      <td>25.700000</td>\n",
       "      <td>808.000000</td>\n",
       "      <td>1150.250000</td>\n",
       "      <td>0.004829</td>\n",
       "      <td>1</td>\n",
       "    </tr>\n",
       "    <tr>\n",
       "      <th>2661</th>\n",
       "      <td>24.330000</td>\n",
       "      <td>25.736000</td>\n",
       "      <td>809.800000</td>\n",
       "      <td>1129.200000</td>\n",
       "      <td>0.004848</td>\n",
       "      <td>1</td>\n",
       "    </tr>\n",
       "    <tr>\n",
       "      <th>2662</th>\n",
       "      <td>24.330000</td>\n",
       "      <td>25.700000</td>\n",
       "      <td>817.000000</td>\n",
       "      <td>1125.800000</td>\n",
       "      <td>0.004841</td>\n",
       "      <td>1</td>\n",
       "    </tr>\n",
       "    <tr>\n",
       "      <th>2663</th>\n",
       "      <td>24.356667</td>\n",
       "      <td>25.700000</td>\n",
       "      <td>813.000000</td>\n",
       "      <td>1123.000000</td>\n",
       "      <td>0.004849</td>\n",
       "      <td>1</td>\n",
       "    </tr>\n",
       "    <tr>\n",
       "      <th>2664</th>\n",
       "      <td>24.408333</td>\n",
       "      <td>25.681667</td>\n",
       "      <td>798.000000</td>\n",
       "      <td>1124.000000</td>\n",
       "      <td>0.004860</td>\n",
       "      <td>1</td>\n",
       "    </tr>\n",
       "  </tbody>\n",
       "</table>\n",
       "<p>2665 rows × 6 columns</p>\n",
       "</div>"
      ],
      "text/plain": [
       "      Temperature   Humidity       Light          CO2  HumidityRatio  \\\n",
       "0       23.700000  26.272000  585.200000   749.200000       0.004764   \n",
       "1       23.718000  26.290000  578.400000   760.400000       0.004773   \n",
       "2       23.730000  26.230000  572.666667   769.666667       0.004765   \n",
       "3       23.722500  26.125000  493.750000   774.750000       0.004744   \n",
       "4       23.754000  26.200000  488.600000   779.000000       0.004767   \n",
       "...           ...        ...         ...          ...            ...   \n",
       "2660    24.290000  25.700000  808.000000  1150.250000       0.004829   \n",
       "2661    24.330000  25.736000  809.800000  1129.200000       0.004848   \n",
       "2662    24.330000  25.700000  817.000000  1125.800000       0.004841   \n",
       "2663    24.356667  25.700000  813.000000  1123.000000       0.004849   \n",
       "2664    24.408333  25.681667  798.000000  1124.000000       0.004860   \n",
       "\n",
       "      Occupancy  \n",
       "0             1  \n",
       "1             1  \n",
       "2             1  \n",
       "3             1  \n",
       "4             1  \n",
       "...         ...  \n",
       "2660          1  \n",
       "2661          1  \n",
       "2662          1  \n",
       "2663          1  \n",
       "2664          1  \n",
       "\n",
       "[2665 rows x 6 columns]"
      ]
     },
     "execution_count": 57,
     "metadata": {},
     "output_type": "execute_result"
    }
   ],
   "source": [
    "data = pd.read_csv(\"room-occupancy.csv\")\n",
    "data"
   ]
  },
  {
   "cell_type": "code",
   "execution_count": 58,
   "metadata": {},
   "outputs": [
    {
     "data": {
      "text/plain": [
       "Temperature      False\n",
       "Humidity         False\n",
       "Light            False\n",
       "CO2              False\n",
       "HumidityRatio    False\n",
       "Occupancy        False\n",
       "dtype: bool"
      ]
     },
     "execution_count": 58,
     "metadata": {},
     "output_type": "execute_result"
    }
   ],
   "source": [
    "data.isnull().any()"
   ]
  },
  {
   "cell_type": "code",
   "execution_count": 59,
   "metadata": {},
   "outputs": [
    {
     "data": {
      "text/plain": [
       "<AxesSubplot:>"
      ]
     },
     "execution_count": 59,
     "metadata": {},
     "output_type": "execute_result"
    },
    {
     "data": {
      "image/png": "[encoded data removed]",
      "text/plain": [
       "<Figure size 432x288 with 2 Axes>"
      ]
     },
     "metadata": {
      "needs_background": "light"
     },
     "output_type": "display_data"
    }
   ],
   "source": [
    "sns.heatmap(data = data.corr())"
   ]
  },
  {
   "cell_type": "code",
   "execution_count": 60,
   "metadata": {},
   "outputs": [
    {
     "data": {
      "text/html": [
       "<div>\n",
       "<style scoped>\n",
       "    .dataframe tbody tr th:only-of-type {\n",
       "        vertical-align: middle;\n",
       "    }\n",
       "\n",
       "    .dataframe tbody tr th {\n",
       "        vertical-align: top;\n",
       "    }\n",
       "\n",
       "    .dataframe thead th {\n",
       "        text-align: right;\n",
       "    }\n",
       "</style>\n",
       "<table border=\"1\" class=\"dataframe\">\n",
       "  <thead>\n",
       "    <tr style=\"text-align: right;\">\n",
       "      <th></th>\n",
       "      <th>unique count</th>\n",
       "    </tr>\n",
       "  </thead>\n",
       "  <tbody>\n",
       "    <tr>\n",
       "      <th>Temperature</th>\n",
       "      <td>335</td>\n",
       "    </tr>\n",
       "    <tr>\n",
       "      <th>Humidity</th>\n",
       "      <td>725</td>\n",
       "    </tr>\n",
       "    <tr>\n",
       "      <th>Light</th>\n",
       "      <td>428</td>\n",
       "    </tr>\n",
       "    <tr>\n",
       "      <th>CO2</th>\n",
       "      <td>1894</td>\n",
       "    </tr>\n",
       "    <tr>\n",
       "      <th>HumidityRatio</th>\n",
       "      <td>1505</td>\n",
       "    </tr>\n",
       "    <tr>\n",
       "      <th>Occupancy</th>\n",
       "      <td>2</td>\n",
       "    </tr>\n",
       "  </tbody>\n",
       "</table>\n",
       "</div>"
      ],
      "text/plain": [
       "               unique count\n",
       "Temperature             335\n",
       "Humidity                725\n",
       "Light                   428\n",
       "CO2                    1894\n",
       "HumidityRatio          1505\n",
       "Occupancy                 2"
      ]
     },
     "execution_count": 60,
     "metadata": {},
     "output_type": "execute_result"
    }
   ],
   "source": [
    "dict = {}\n",
    "for col in list(data.columns):\n",
    "    dict[col] = data[col].value_counts().shape[0]\n",
    "\n",
    "pd.DataFrame(dict,index=[\"unique count\"]).T"
   ]
  },
  {
   "cell_type": "code",
   "execution_count": 61,
   "metadata": {},
   "outputs": [
    {
     "data": {
      "text/html": [
       "<div>\n",
       "<style scoped>\n",
       "    .dataframe tbody tr th:only-of-type {\n",
       "        vertical-align: middle;\n",
       "    }\n",
       "\n",
       "    .dataframe tbody tr th {\n",
       "        vertical-align: top;\n",
       "    }\n",
       "\n",
       "    .dataframe thead th {\n",
       "        text-align: right;\n",
       "    }\n",
       "</style>\n",
       "<table border=\"1\" class=\"dataframe\">\n",
       "  <thead>\n",
       "    <tr style=\"text-align: right;\">\n",
       "      <th></th>\n",
       "      <th>count</th>\n",
       "      <th>mean</th>\n",
       "      <th>std</th>\n",
       "      <th>min</th>\n",
       "      <th>25%</th>\n",
       "      <th>50%</th>\n",
       "      <th>75%</th>\n",
       "      <th>max</th>\n",
       "    </tr>\n",
       "  </thead>\n",
       "  <tbody>\n",
       "    <tr>\n",
       "      <th>Temperature</th>\n",
       "      <td>2665.0</td>\n",
       "      <td>21.433876</td>\n",
       "      <td>1.028024</td>\n",
       "      <td>20.200000</td>\n",
       "      <td>20.650000</td>\n",
       "      <td>20.890000</td>\n",
       "      <td>22.356667</td>\n",
       "      <td>24.408333</td>\n",
       "    </tr>\n",
       "    <tr>\n",
       "      <th>Humidity</th>\n",
       "      <td>2665.0</td>\n",
       "      <td>25.353937</td>\n",
       "      <td>2.436842</td>\n",
       "      <td>22.100000</td>\n",
       "      <td>23.260000</td>\n",
       "      <td>25.000000</td>\n",
       "      <td>26.856667</td>\n",
       "      <td>31.472500</td>\n",
       "    </tr>\n",
       "    <tr>\n",
       "      <th>Light</th>\n",
       "      <td>2665.0</td>\n",
       "      <td>193.227556</td>\n",
       "      <td>250.210906</td>\n",
       "      <td>0.000000</td>\n",
       "      <td>0.000000</td>\n",
       "      <td>0.000000</td>\n",
       "      <td>442.500000</td>\n",
       "      <td>1697.250000</td>\n",
       "    </tr>\n",
       "    <tr>\n",
       "      <th>CO2</th>\n",
       "      <td>2665.0</td>\n",
       "      <td>717.906470</td>\n",
       "      <td>292.681718</td>\n",
       "      <td>427.500000</td>\n",
       "      <td>466.000000</td>\n",
       "      <td>580.500000</td>\n",
       "      <td>956.333333</td>\n",
       "      <td>1402.250000</td>\n",
       "    </tr>\n",
       "    <tr>\n",
       "      <th>HumidityRatio</th>\n",
       "      <td>2665.0</td>\n",
       "      <td>0.004027</td>\n",
       "      <td>0.000611</td>\n",
       "      <td>0.003303</td>\n",
       "      <td>0.003529</td>\n",
       "      <td>0.003815</td>\n",
       "      <td>0.004532</td>\n",
       "      <td>0.005378</td>\n",
       "    </tr>\n",
       "    <tr>\n",
       "      <th>Occupancy</th>\n",
       "      <td>2665.0</td>\n",
       "      <td>0.364728</td>\n",
       "      <td>0.481444</td>\n",
       "      <td>0.000000</td>\n",
       "      <td>0.000000</td>\n",
       "      <td>0.000000</td>\n",
       "      <td>1.000000</td>\n",
       "      <td>1.000000</td>\n",
       "    </tr>\n",
       "  </tbody>\n",
       "</table>\n",
       "</div>"
      ],
      "text/plain": [
       "                count        mean         std         min         25%  \\\n",
       "Temperature    2665.0   21.433876    1.028024   20.200000   20.650000   \n",
       "Humidity       2665.0   25.353937    2.436842   22.100000   23.260000   \n",
       "Light          2665.0  193.227556  250.210906    0.000000    0.000000   \n",
       "CO2            2665.0  717.906470  292.681718  427.500000  466.000000   \n",
       "HumidityRatio  2665.0    0.004027    0.000611    0.003303    0.003529   \n",
       "Occupancy      2665.0    0.364728    0.481444    0.000000    0.000000   \n",
       "\n",
       "                      50%         75%          max  \n",
       "Temperature     20.890000   22.356667    24.408333  \n",
       "Humidity        25.000000   26.856667    31.472500  \n",
       "Light            0.000000  442.500000  1697.250000  \n",
       "CO2            580.500000  956.333333  1402.250000  \n",
       "HumidityRatio    0.003815    0.004532     0.005378  \n",
       "Occupancy        0.000000    1.000000     1.000000  "
      ]
     },
     "execution_count": 61,
     "metadata": {},
     "output_type": "execute_result"
    }
   ],
   "source": [
    "data.describe().T"
   ]
  },
  {
   "cell_type": "code",
   "execution_count": 62,
   "metadata": {},
   "outputs": [
    {
     "data": {
      "text/html": [
       "<div>\n",
       "<style scoped>\n",
       "    .dataframe tbody tr th:only-of-type {\n",
       "        vertical-align: middle;\n",
       "    }\n",
       "\n",
       "    .dataframe tbody tr th {\n",
       "        vertical-align: top;\n",
       "    }\n",
       "\n",
       "    .dataframe thead th {\n",
       "        text-align: right;\n",
       "    }\n",
       "</style>\n",
       "<table border=\"1\" class=\"dataframe\">\n",
       "  <thead>\n",
       "    <tr style=\"text-align: right;\">\n",
       "      <th></th>\n",
       "      <th>Temperature</th>\n",
       "      <th>Humidity</th>\n",
       "      <th>Light</th>\n",
       "      <th>CO2</th>\n",
       "      <th>HumidityRatio</th>\n",
       "      <th>Occupancy</th>\n",
       "    </tr>\n",
       "  </thead>\n",
       "  <tbody>\n",
       "    <tr>\n",
       "      <th>0</th>\n",
       "      <td>23.7000</td>\n",
       "      <td>26.272</td>\n",
       "      <td>585.200000</td>\n",
       "      <td>749.200000</td>\n",
       "      <td>0.004764</td>\n",
       "      <td>1</td>\n",
       "    </tr>\n",
       "    <tr>\n",
       "      <th>1</th>\n",
       "      <td>23.7180</td>\n",
       "      <td>26.290</td>\n",
       "      <td>578.400000</td>\n",
       "      <td>760.400000</td>\n",
       "      <td>0.004773</td>\n",
       "      <td>1</td>\n",
       "    </tr>\n",
       "    <tr>\n",
       "      <th>2</th>\n",
       "      <td>23.7300</td>\n",
       "      <td>26.230</td>\n",
       "      <td>572.666667</td>\n",
       "      <td>769.666667</td>\n",
       "      <td>0.004765</td>\n",
       "      <td>1</td>\n",
       "    </tr>\n",
       "    <tr>\n",
       "      <th>3</th>\n",
       "      <td>23.7225</td>\n",
       "      <td>26.125</td>\n",
       "      <td>493.750000</td>\n",
       "      <td>774.750000</td>\n",
       "      <td>0.004744</td>\n",
       "      <td>1</td>\n",
       "    </tr>\n",
       "    <tr>\n",
       "      <th>4</th>\n",
       "      <td>23.7540</td>\n",
       "      <td>26.200</td>\n",
       "      <td>488.600000</td>\n",
       "      <td>779.000000</td>\n",
       "      <td>0.004767</td>\n",
       "      <td>1</td>\n",
       "    </tr>\n",
       "    <tr>\n",
       "      <th>5</th>\n",
       "      <td>23.7600</td>\n",
       "      <td>26.260</td>\n",
       "      <td>568.666667</td>\n",
       "      <td>790.000000</td>\n",
       "      <td>0.004779</td>\n",
       "      <td>1</td>\n",
       "    </tr>\n",
       "    <tr>\n",
       "      <th>6</th>\n",
       "      <td>23.7300</td>\n",
       "      <td>26.290</td>\n",
       "      <td>536.333333</td>\n",
       "      <td>798.000000</td>\n",
       "      <td>0.004776</td>\n",
       "      <td>1</td>\n",
       "    </tr>\n",
       "    <tr>\n",
       "      <th>7</th>\n",
       "      <td>23.7540</td>\n",
       "      <td>26.290</td>\n",
       "      <td>509.000000</td>\n",
       "      <td>797.000000</td>\n",
       "      <td>0.004783</td>\n",
       "      <td>1</td>\n",
       "    </tr>\n",
       "    <tr>\n",
       "      <th>8</th>\n",
       "      <td>23.7540</td>\n",
       "      <td>26.350</td>\n",
       "      <td>476.000000</td>\n",
       "      <td>803.200000</td>\n",
       "      <td>0.004794</td>\n",
       "      <td>1</td>\n",
       "    </tr>\n",
       "    <tr>\n",
       "      <th>9</th>\n",
       "      <td>23.7360</td>\n",
       "      <td>26.390</td>\n",
       "      <td>510.000000</td>\n",
       "      <td>809.000000</td>\n",
       "      <td>0.004796</td>\n",
       "      <td>1</td>\n",
       "    </tr>\n",
       "  </tbody>\n",
       "</table>\n",
       "</div>"
      ],
      "text/plain": [
       "   Temperature  Humidity       Light         CO2  HumidityRatio  Occupancy\n",
       "0      23.7000    26.272  585.200000  749.200000       0.004764          1\n",
       "1      23.7180    26.290  578.400000  760.400000       0.004773          1\n",
       "2      23.7300    26.230  572.666667  769.666667       0.004765          1\n",
       "3      23.7225    26.125  493.750000  774.750000       0.004744          1\n",
       "4      23.7540    26.200  488.600000  779.000000       0.004767          1\n",
       "5      23.7600    26.260  568.666667  790.000000       0.004779          1\n",
       "6      23.7300    26.290  536.333333  798.000000       0.004776          1\n",
       "7      23.7540    26.290  509.000000  797.000000       0.004783          1\n",
       "8      23.7540    26.350  476.000000  803.200000       0.004794          1\n",
       "9      23.7360    26.390  510.000000  809.000000       0.004796          1"
      ]
     },
     "execution_count": 62,
     "metadata": {},
     "output_type": "execute_result"
    }
   ],
   "source": [
    "data.head(10)"
   ]
  },
  {
   "cell_type": "code",
   "execution_count": 63,
   "metadata": {},
   "outputs": [
    {
     "name": "stdout",
     "output_type": "stream",
     "text": [
      "(2665, 5)\n"
     ]
    },
    {
     "data": {
      "text/plain": [
       "(2665,)"
      ]
     },
     "execution_count": 63,
     "metadata": {},
     "output_type": "execute_result"
    }
   ],
   "source": [
    "X = data.drop(\"Occupancy\",axis=1)\n",
    "Y = data[\"Occupancy\"]\n",
    "print(X.shape)\n",
    "Y.shape"
   ]
  },
  {
   "cell_type": "code",
   "execution_count": 64,
   "metadata": {},
   "outputs": [
    {
     "data": {
      "text/plain": [
       "(2665, 5)"
      ]
     },
     "execution_count": 64,
     "metadata": {},
     "output_type": "execute_result"
    }
   ],
   "source": [
    "scaler = StandardScaler()\n",
    "scaler.fit(X)\n",
    "X_scaled = scaler.transform(X)\n",
    "X_scaled.shape"
   ]
  },
  {
   "cell_type": "code",
   "execution_count": 65,
   "metadata": {},
   "outputs": [
    {
     "name": "stdout",
     "output_type": "stream",
     "text": [
      "(1865, 5)\n",
      "(800, 5)\n",
      "(1865,)\n",
      "(800,)\n"
     ]
    }
   ],
   "source": [
    "X_train, X_test, Y_train, Y_test = train_test_split(X, Y, test_size=0.3,random_state=10)\n",
    "print(f\"{X_train.shape}\\n{X_test.shape}\\n{Y_train.shape}\\n{Y_test.shape}\")"
   ]
  },
  {
   "cell_type": "code",
   "execution_count": 66,
   "metadata": {},
   "outputs": [],
   "source": [
    "from sklearn.preprocessing import StandardScaler\n",
    "from sklearn.linear_model import LogisticRegression\n",
    "from sklearn.svm import LinearSVC\n",
    "from sklearn.tree import DecisionTreeClassifier\n",
    "from sklearn.ensemble import RandomForestClassifier\n",
    "from sklearn.naive_bayes import GaussianNB\n",
    "from sklearn.neighbors import KNeighborsClassifier\n",
    "from sklearn.metrics import accuracy_score, precision_score, recall_score\n"
   ]
  },
  {
   "cell_type": "code",
   "execution_count": 80,
   "metadata": {},
   "outputs": [
    {
     "name": "stderr",
     "output_type": "stream",
     "text": [
      "C:\\Users\\Yash\\anaconda3\\lib\\site-packages\\sklearn\\svm\\_base.py:985: ConvergenceWarning: Liblinear failed to converge, increase the number of iterations.\n",
      "  warnings.warn(\"Liblinear failed to converge, increase \"\n"
     ]
    },
    {
     "name": "stdout",
     "output_type": "stream",
     "text": [
      "                    Model  Accuray  Precision    Recall\n",
      "0      LogisticRegression  0.97000   0.921824  1.000000\n",
      "1               LinearSVC  0.97000   0.921824  1.000000\n",
      "2  DecisionTreeClassifier  0.98125   0.955782  0.992933\n",
      "3  RandomForestClassifier  0.98125   0.952703  0.996466\n",
      "4              GaussianNB  0.95000   0.876161  1.000000\n",
      "5    KNeighborsClassifier  0.98000   0.946488  1.000000\n"
     ]
    }
   ],
   "source": [
    "precision = []\n",
    "accuracy = []\n",
    "recall = []\n",
    "model = []\n",
    "models  = [ LogisticRegression(),LinearSVC(),DecisionTreeClassifier(),RandomForestClassifier(), GaussianNB(),KNeighborsClassifier()]\n",
    "for obj in models:\n",
    "    model_name = type(obj).__name__\n",
    "    obj.fit(X_train,Y_train)\n",
    "    predict=obj.predict(X_test)\n",
    "    precision.append(precision_score(Y_test,predict))\n",
    "    model.append(model_name)\n",
    "    accuracy.append(accuracy_score(Y_test,predict))\n",
    "    recall.append(recall_score(Y_test,predict))\n",
    "\n",
    "models = pd.DataFrame({'Model':model, 'Accuray':accuracy, 'Precision':precision, 'Recall': recall})\n",
    "print(models)"
   ]
  }
 ],
 "metadata": {
  "interpreter": {
   "hash": "8a460da068ad21e825cd853dee63733b8b91400b72d458b93ad7c646498b211f"
  },
  "kernelspec": {
   "display_name": "Python 3.8.8 64-bit ('base': conda)",
   "name": "python3"
  },
  "language_info": {
   "codemirror_mode": {
    "name": "ipython",
    "version": 3
   },
   "file_extension": ".py",
   "mimetype": "text/x-python",
   "name": "python",
   "nbconvert_exporter": "python",
   "pygments_lexer": "ipython3",
   "version": "3.8.8"
  },
  "orig_nbformat": 4
 },
 "nbformat": 4,
 "nbformat_minor": 2
}
