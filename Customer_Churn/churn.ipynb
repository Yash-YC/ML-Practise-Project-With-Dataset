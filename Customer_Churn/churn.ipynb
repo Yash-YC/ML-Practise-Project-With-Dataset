{
 "cells": [
  {
   "cell_type": "markdown",
   "source": [
    "## Problem Statment \r\n",
    "To predict whether the customer/client will terminate their relations with the company or not."
   ],
   "metadata": {}
  },
  {
   "cell_type": "code",
   "execution_count": 2,
   "source": [
    "import numpy as np\r\n",
    "import pandas as pd\r\n",
    "import matplotlib.pyplot as plt\r\n",
    "import seaborn as sns\r\n",
    "import os\r\n",
    "from warnings import filterwarnings\r\n",
    "filterwarnings('ignore')"
   ],
   "outputs": [],
   "metadata": {}
  },
  {
   "cell_type": "code",
   "execution_count": 3,
   "source": [
    "pwd = os.getcwd()\r\n",
    "filepath = os.path.join(pwd, \"train.csv\")\r\n",
    "filepath"
   ],
   "outputs": [
    {
     "output_type": "execute_result",
     "data": {
      "text/plain": [
       "'d:\\\\python_ml\\\\New folder\\\\train.csv'"
      ]
     },
     "metadata": {},
     "execution_count": 3
    }
   ],
   "metadata": {}
  },
  {
   "cell_type": "code",
   "execution_count": 6,
   "source": [
    "df = pd.read_csv(filepath,na_values = ['?','Error','Unknown'])\r\n",
    "df.head()"
   ],
   "outputs": [
    {
     "output_type": "execute_result",
     "data": {
      "text/html": [
       "<div>\n",
       "<style scoped>\n",
       "    .dataframe tbody tr th:only-of-type {\n",
       "        vertical-align: middle;\n",
       "    }\n",
       "\n",
       "    .dataframe tbody tr th {\n",
       "        vertical-align: top;\n",
       "    }\n",
       "\n",
       "    .dataframe thead th {\n",
       "        text-align: right;\n",
       "    }\n",
       "</style>\n",
       "<table border=\"1\" class=\"dataframe\">\n",
       "  <thead>\n",
       "    <tr style=\"text-align: right;\">\n",
       "      <th></th>\n",
       "      <th>customer_id</th>\n",
       "      <th>Name</th>\n",
       "      <th>age</th>\n",
       "      <th>gender</th>\n",
       "      <th>security_no</th>\n",
       "      <th>region_category</th>\n",
       "      <th>membership_category</th>\n",
       "      <th>joining_date</th>\n",
       "      <th>joined_through_referral</th>\n",
       "      <th>referral_id</th>\n",
       "      <th>...</th>\n",
       "      <th>avg_time_spent</th>\n",
       "      <th>avg_transaction_value</th>\n",
       "      <th>avg_frequency_login_days</th>\n",
       "      <th>points_in_wallet</th>\n",
       "      <th>used_special_discount</th>\n",
       "      <th>offer_application_preference</th>\n",
       "      <th>past_complaint</th>\n",
       "      <th>complaint_status</th>\n",
       "      <th>feedback</th>\n",
       "      <th>churn_risk_score</th>\n",
       "    </tr>\n",
       "  </thead>\n",
       "  <tbody>\n",
       "    <tr>\n",
       "      <th>0</th>\n",
       "      <td>fffe4300490044003600300030003800</td>\n",
       "      <td>Pattie Morrisey</td>\n",
       "      <td>18</td>\n",
       "      <td>F</td>\n",
       "      <td>XW0DQ7H</td>\n",
       "      <td>Village</td>\n",
       "      <td>Platinum Membership</td>\n",
       "      <td>2017-08-17</td>\n",
       "      <td>No</td>\n",
       "      <td>xxxxxxxx</td>\n",
       "      <td>...</td>\n",
       "      <td>300.63</td>\n",
       "      <td>53005.25</td>\n",
       "      <td>17.0</td>\n",
       "      <td>781.75</td>\n",
       "      <td>Yes</td>\n",
       "      <td>Yes</td>\n",
       "      <td>No</td>\n",
       "      <td>Not Applicable</td>\n",
       "      <td>Products always in Stock</td>\n",
       "      <td>2</td>\n",
       "    </tr>\n",
       "    <tr>\n",
       "      <th>1</th>\n",
       "      <td>fffe43004900440032003100300035003700</td>\n",
       "      <td>Traci Peery</td>\n",
       "      <td>32</td>\n",
       "      <td>F</td>\n",
       "      <td>5K0N3X1</td>\n",
       "      <td>City</td>\n",
       "      <td>Premium Membership</td>\n",
       "      <td>2017-08-28</td>\n",
       "      <td>NaN</td>\n",
       "      <td>CID21329</td>\n",
       "      <td>...</td>\n",
       "      <td>306.34</td>\n",
       "      <td>12838.38</td>\n",
       "      <td>10.0</td>\n",
       "      <td>NaN</td>\n",
       "      <td>Yes</td>\n",
       "      <td>No</td>\n",
       "      <td>Yes</td>\n",
       "      <td>Solved</td>\n",
       "      <td>Quality Customer Care</td>\n",
       "      <td>1</td>\n",
       "    </tr>\n",
       "    <tr>\n",
       "      <th>2</th>\n",
       "      <td>fffe4300490044003100390032003600</td>\n",
       "      <td>Merideth Mcmeen</td>\n",
       "      <td>44</td>\n",
       "      <td>F</td>\n",
       "      <td>1F2TCL3</td>\n",
       "      <td>Town</td>\n",
       "      <td>No Membership</td>\n",
       "      <td>2016-11-11</td>\n",
       "      <td>Yes</td>\n",
       "      <td>CID12313</td>\n",
       "      <td>...</td>\n",
       "      <td>516.16</td>\n",
       "      <td>21027.00</td>\n",
       "      <td>22.0</td>\n",
       "      <td>500.69</td>\n",
       "      <td>No</td>\n",
       "      <td>Yes</td>\n",
       "      <td>Yes</td>\n",
       "      <td>Solved in Follow-up</td>\n",
       "      <td>Poor Website</td>\n",
       "      <td>5</td>\n",
       "    </tr>\n",
       "    <tr>\n",
       "      <th>3</th>\n",
       "      <td>fffe43004900440036003000330031003600</td>\n",
       "      <td>Eufemia Cardwell</td>\n",
       "      <td>37</td>\n",
       "      <td>M</td>\n",
       "      <td>VJGJ33N</td>\n",
       "      <td>City</td>\n",
       "      <td>No Membership</td>\n",
       "      <td>2016-10-29</td>\n",
       "      <td>Yes</td>\n",
       "      <td>CID3793</td>\n",
       "      <td>...</td>\n",
       "      <td>53.27</td>\n",
       "      <td>25239.56</td>\n",
       "      <td>6.0</td>\n",
       "      <td>567.66</td>\n",
       "      <td>No</td>\n",
       "      <td>Yes</td>\n",
       "      <td>Yes</td>\n",
       "      <td>Unsolved</td>\n",
       "      <td>Poor Website</td>\n",
       "      <td>5</td>\n",
       "    </tr>\n",
       "    <tr>\n",
       "      <th>4</th>\n",
       "      <td>fffe43004900440031003900350030003600</td>\n",
       "      <td>Meghan Kosak</td>\n",
       "      <td>31</td>\n",
       "      <td>F</td>\n",
       "      <td>SVZXCWB</td>\n",
       "      <td>City</td>\n",
       "      <td>No Membership</td>\n",
       "      <td>2017-09-12</td>\n",
       "      <td>No</td>\n",
       "      <td>xxxxxxxx</td>\n",
       "      <td>...</td>\n",
       "      <td>113.13</td>\n",
       "      <td>24483.66</td>\n",
       "      <td>16.0</td>\n",
       "      <td>663.06</td>\n",
       "      <td>No</td>\n",
       "      <td>Yes</td>\n",
       "      <td>Yes</td>\n",
       "      <td>Solved</td>\n",
       "      <td>Poor Website</td>\n",
       "      <td>5</td>\n",
       "    </tr>\n",
       "  </tbody>\n",
       "</table>\n",
       "<p>5 rows × 25 columns</p>\n",
       "</div>"
      ],
      "text/plain": [
       "                            customer_id              Name  age gender  \\\n",
       "0      fffe4300490044003600300030003800   Pattie Morrisey   18      F   \n",
       "1  fffe43004900440032003100300035003700       Traci Peery   32      F   \n",
       "2      fffe4300490044003100390032003600   Merideth Mcmeen   44      F   \n",
       "3  fffe43004900440036003000330031003600  Eufemia Cardwell   37      M   \n",
       "4  fffe43004900440031003900350030003600      Meghan Kosak   31      F   \n",
       "\n",
       "  security_no region_category  membership_category joining_date  \\\n",
       "0     XW0DQ7H         Village  Platinum Membership   2017-08-17   \n",
       "1     5K0N3X1            City   Premium Membership   2017-08-28   \n",
       "2     1F2TCL3            Town        No Membership   2016-11-11   \n",
       "3     VJGJ33N            City        No Membership   2016-10-29   \n",
       "4     SVZXCWB            City        No Membership   2017-09-12   \n",
       "\n",
       "  joined_through_referral referral_id  ... avg_time_spent  \\\n",
       "0                      No    xxxxxxxx  ...         300.63   \n",
       "1                     NaN    CID21329  ...         306.34   \n",
       "2                     Yes    CID12313  ...         516.16   \n",
       "3                     Yes     CID3793  ...          53.27   \n",
       "4                      No    xxxxxxxx  ...         113.13   \n",
       "\n",
       "  avg_transaction_value avg_frequency_login_days points_in_wallet  \\\n",
       "0              53005.25                     17.0           781.75   \n",
       "1              12838.38                     10.0              NaN   \n",
       "2              21027.00                     22.0           500.69   \n",
       "3              25239.56                      6.0           567.66   \n",
       "4              24483.66                     16.0           663.06   \n",
       "\n",
       "   used_special_discount  offer_application_preference  past_complaint  \\\n",
       "0                    Yes                           Yes              No   \n",
       "1                    Yes                            No             Yes   \n",
       "2                     No                           Yes             Yes   \n",
       "3                     No                           Yes             Yes   \n",
       "4                     No                           Yes             Yes   \n",
       "\n",
       "      complaint_status                  feedback churn_risk_score  \n",
       "0       Not Applicable  Products always in Stock                2  \n",
       "1               Solved     Quality Customer Care                1  \n",
       "2  Solved in Follow-up              Poor Website                5  \n",
       "3             Unsolved              Poor Website                5  \n",
       "4               Solved              Poor Website                5  \n",
       "\n",
       "[5 rows x 25 columns]"
      ]
     },
     "metadata": {},
     "execution_count": 6
    }
   ],
   "metadata": {}
  },
  {
   "cell_type": "code",
   "execution_count": 7,
   "source": [
    "df['churn_risk_score'].value_counts() ## Target Variable"
   ],
   "outputs": [
    {
     "output_type": "execute_result",
     "data": {
      "text/plain": [
       " 3    10424\n",
       " 4    10185\n",
       " 5     9827\n",
       " 2     2741\n",
       " 1     2652\n",
       "-1     1163\n",
       "Name: churn_risk_score, dtype: int64"
      ]
     },
     "metadata": {},
     "execution_count": 7
    }
   ],
   "metadata": {}
  },
  {
   "cell_type": "code",
   "execution_count": 16,
   "source": [
    "df.drop(df[df['churn_risk_score'] < 1].index, inplace = True) #less than one is own company employee"
   ],
   "outputs": [],
   "metadata": {}
  },
  {
   "cell_type": "code",
   "execution_count": 17,
   "source": [
    "df.drop(['customer_id', 'Name' , 'security_no' ,\r\n",
    "       'referral_id', 'last_visit_time'] , axis = 1 , inplace = True) #dropig some Feature"
   ],
   "outputs": [],
   "metadata": {}
  },
  {
   "cell_type": "code",
   "execution_count": 19,
   "source": [
    "df.info()"
   ],
   "outputs": [
    {
     "output_type": "stream",
     "name": "stdout",
     "text": [
      "<class 'pandas.core.frame.DataFrame'>\n",
      "Int64Index: 35829 entries, 0 to 36991\n",
      "Data columns (total 20 columns):\n",
      " #   Column                        Non-Null Count  Dtype  \n",
      "---  ------                        --------------  -----  \n",
      " 0   age                           35829 non-null  int64  \n",
      " 1   gender                        35773 non-null  object \n",
      " 2   region_category               30566 non-null  object \n",
      " 3   membership_category           35829 non-null  object \n",
      " 4   joining_date                  35829 non-null  object \n",
      " 5   joined_through_referral       30537 non-null  object \n",
      " 6   preferred_offer_types         35553 non-null  object \n",
      " 7   medium_of_operation           30599 non-null  object \n",
      " 8   internet_option               35829 non-null  object \n",
      " 9   days_since_last_login         35829 non-null  int64  \n",
      " 10  avg_time_spent                35829 non-null  float64\n",
      " 11  avg_transaction_value         35829 non-null  float64\n",
      " 12  avg_frequency_login_days      32410 non-null  float64\n",
      " 13  points_in_wallet              32488 non-null  float64\n",
      " 14  used_special_discount         35829 non-null  object \n",
      " 15  offer_application_preference  35829 non-null  object \n",
      " 16  past_complaint                35829 non-null  object \n",
      " 17  complaint_status              35829 non-null  object \n",
      " 18  feedback                      35829 non-null  object \n",
      " 19  churn_risk_score              35829 non-null  int64  \n",
      "dtypes: float64(4), int64(3), object(13)\n",
      "memory usage: 6.7+ MB\n"
     ]
    }
   ],
   "metadata": {}
  },
  {
   "cell_type": "code",
   "execution_count": 20,
   "source": [
    "df.describe()   "
   ],
   "outputs": [
    {
     "output_type": "execute_result",
     "data": {
      "text/html": [
       "<div>\n",
       "<style scoped>\n",
       "    .dataframe tbody tr th:only-of-type {\n",
       "        vertical-align: middle;\n",
       "    }\n",
       "\n",
       "    .dataframe tbody tr th {\n",
       "        vertical-align: top;\n",
       "    }\n",
       "\n",
       "    .dataframe thead th {\n",
       "        text-align: right;\n",
       "    }\n",
       "</style>\n",
       "<table border=\"1\" class=\"dataframe\">\n",
       "  <thead>\n",
       "    <tr style=\"text-align: right;\">\n",
       "      <th></th>\n",
       "      <th>age</th>\n",
       "      <th>days_since_last_login</th>\n",
       "      <th>avg_time_spent</th>\n",
       "      <th>avg_transaction_value</th>\n",
       "      <th>avg_frequency_login_days</th>\n",
       "      <th>points_in_wallet</th>\n",
       "      <th>churn_risk_score</th>\n",
       "    </tr>\n",
       "  </thead>\n",
       "  <tbody>\n",
       "    <tr>\n",
       "      <th>count</th>\n",
       "      <td>35829.000000</td>\n",
       "      <td>35829.000000</td>\n",
       "      <td>35829.000000</td>\n",
       "      <td>35829.000000</td>\n",
       "      <td>32410.000000</td>\n",
       "      <td>32488.000000</td>\n",
       "      <td>35829.000000</td>\n",
       "    </tr>\n",
       "    <tr>\n",
       "      <th>mean</th>\n",
       "      <td>37.120266</td>\n",
       "      <td>-42.143906</td>\n",
       "      <td>243.373859</td>\n",
       "      <td>29304.272306</td>\n",
       "      <td>15.963040</td>\n",
       "      <td>686.849231</td>\n",
       "      <td>3.608278</td>\n",
       "    </tr>\n",
       "    <tr>\n",
       "      <th>std</th>\n",
       "      <td>15.865360</td>\n",
       "      <td>229.254856</td>\n",
       "      <td>397.784650</td>\n",
       "      <td>19484.565419</td>\n",
       "      <td>9.205918</td>\n",
       "      <td>194.574486</td>\n",
       "      <td>1.176426</td>\n",
       "    </tr>\n",
       "    <tr>\n",
       "      <th>min</th>\n",
       "      <td>10.000000</td>\n",
       "      <td>-999.000000</td>\n",
       "      <td>-2814.109110</td>\n",
       "      <td>800.460000</td>\n",
       "      <td>-43.652702</td>\n",
       "      <td>-760.661236</td>\n",
       "      <td>1.000000</td>\n",
       "    </tr>\n",
       "    <tr>\n",
       "      <th>25%</th>\n",
       "      <td>23.000000</td>\n",
       "      <td>8.000000</td>\n",
       "      <td>59.810000</td>\n",
       "      <td>14194.650000</td>\n",
       "      <td>9.000000</td>\n",
       "      <td>615.967500</td>\n",
       "      <td>3.000000</td>\n",
       "    </tr>\n",
       "    <tr>\n",
       "      <th>50%</th>\n",
       "      <td>37.000000</td>\n",
       "      <td>12.000000</td>\n",
       "      <td>161.620000</td>\n",
       "      <td>27584.530000</td>\n",
       "      <td>16.000000</td>\n",
       "      <td>697.820000</td>\n",
       "      <td>4.000000</td>\n",
       "    </tr>\n",
       "    <tr>\n",
       "      <th>75%</th>\n",
       "      <td>51.000000</td>\n",
       "      <td>16.000000</td>\n",
       "      <td>356.330000</td>\n",
       "      <td>40874.010000</td>\n",
       "      <td>23.000000</td>\n",
       "      <td>764.002500</td>\n",
       "      <td>5.000000</td>\n",
       "    </tr>\n",
       "    <tr>\n",
       "      <th>max</th>\n",
       "      <td>64.000000</td>\n",
       "      <td>26.000000</td>\n",
       "      <td>3235.578521</td>\n",
       "      <td>99914.050000</td>\n",
       "      <td>73.061995</td>\n",
       "      <td>2069.069761</td>\n",
       "      <td>5.000000</td>\n",
       "    </tr>\n",
       "  </tbody>\n",
       "</table>\n",
       "</div>"
      ],
      "text/plain": [
       "                age  days_since_last_login  avg_time_spent  \\\n",
       "count  35829.000000           35829.000000    35829.000000   \n",
       "mean      37.120266             -42.143906      243.373859   \n",
       "std       15.865360             229.254856      397.784650   \n",
       "min       10.000000            -999.000000    -2814.109110   \n",
       "25%       23.000000               8.000000       59.810000   \n",
       "50%       37.000000              12.000000      161.620000   \n",
       "75%       51.000000              16.000000      356.330000   \n",
       "max       64.000000              26.000000     3235.578521   \n",
       "\n",
       "       avg_transaction_value  avg_frequency_login_days  points_in_wallet  \\\n",
       "count           35829.000000              32410.000000      32488.000000   \n",
       "mean            29304.272306                 15.963040        686.849231   \n",
       "std             19484.565419                  9.205918        194.574486   \n",
       "min               800.460000                -43.652702       -760.661236   \n",
       "25%             14194.650000                  9.000000        615.967500   \n",
       "50%             27584.530000                 16.000000        697.820000   \n",
       "75%             40874.010000                 23.000000        764.002500   \n",
       "max             99914.050000                 73.061995       2069.069761   \n",
       "\n",
       "       churn_risk_score  \n",
       "count      35829.000000  \n",
       "mean           3.608278  \n",
       "std            1.176426  \n",
       "min            1.000000  \n",
       "25%            3.000000  \n",
       "50%            4.000000  \n",
       "75%            5.000000  \n",
       "max            5.000000  "
      ]
     },
     "metadata": {},
     "execution_count": 20
    }
   ],
   "metadata": {}
  },
  {
   "cell_type": "code",
   "execution_count": 21,
   "source": [
    "df.describe(include='O').T  ## It gives output as statistics such as count,frequency,uniqueness e.t.c for non-numeric features."
   ],
   "outputs": [
    {
     "output_type": "execute_result",
     "data": {
      "text/html": [
       "<div>\n",
       "<style scoped>\n",
       "    .dataframe tbody tr th:only-of-type {\n",
       "        vertical-align: middle;\n",
       "    }\n",
       "\n",
       "    .dataframe tbody tr th {\n",
       "        vertical-align: top;\n",
       "    }\n",
       "\n",
       "    .dataframe thead th {\n",
       "        text-align: right;\n",
       "    }\n",
       "</style>\n",
       "<table border=\"1\" class=\"dataframe\">\n",
       "  <thead>\n",
       "    <tr style=\"text-align: right;\">\n",
       "      <th></th>\n",
       "      <th>count</th>\n",
       "      <th>unique</th>\n",
       "      <th>top</th>\n",
       "      <th>freq</th>\n",
       "    </tr>\n",
       "  </thead>\n",
       "  <tbody>\n",
       "    <tr>\n",
       "      <th>gender</th>\n",
       "      <td>35773</td>\n",
       "      <td>2</td>\n",
       "      <td>F</td>\n",
       "      <td>17892</td>\n",
       "    </tr>\n",
       "    <tr>\n",
       "      <th>region_category</th>\n",
       "      <td>30566</td>\n",
       "      <td>3</td>\n",
       "      <td>Town</td>\n",
       "      <td>13702</td>\n",
       "    </tr>\n",
       "    <tr>\n",
       "      <th>membership_category</th>\n",
       "      <td>35829</td>\n",
       "      <td>6</td>\n",
       "      <td>Basic Membership</td>\n",
       "      <td>7473</td>\n",
       "    </tr>\n",
       "    <tr>\n",
       "      <th>joining_date</th>\n",
       "      <td>35829</td>\n",
       "      <td>1096</td>\n",
       "      <td>2015-06-02</td>\n",
       "      <td>55</td>\n",
       "    </tr>\n",
       "    <tr>\n",
       "      <th>joined_through_referral</th>\n",
       "      <td>30537</td>\n",
       "      <td>2</td>\n",
       "      <td>No</td>\n",
       "      <td>15354</td>\n",
       "    </tr>\n",
       "    <tr>\n",
       "      <th>preferred_offer_types</th>\n",
       "      <td>35553</td>\n",
       "      <td>3</td>\n",
       "      <td>Gift Vouchers/Coupons</td>\n",
       "      <td>11977</td>\n",
       "    </tr>\n",
       "    <tr>\n",
       "      <th>medium_of_operation</th>\n",
       "      <td>30599</td>\n",
       "      <td>3</td>\n",
       "      <td>Desktop</td>\n",
       "      <td>13476</td>\n",
       "    </tr>\n",
       "    <tr>\n",
       "      <th>internet_option</th>\n",
       "      <td>35829</td>\n",
       "      <td>3</td>\n",
       "      <td>Wi-Fi</td>\n",
       "      <td>12016</td>\n",
       "    </tr>\n",
       "    <tr>\n",
       "      <th>used_special_discount</th>\n",
       "      <td>35829</td>\n",
       "      <td>2</td>\n",
       "      <td>Yes</td>\n",
       "      <td>19718</td>\n",
       "    </tr>\n",
       "    <tr>\n",
       "      <th>offer_application_preference</th>\n",
       "      <td>35829</td>\n",
       "      <td>2</td>\n",
       "      <td>Yes</td>\n",
       "      <td>19783</td>\n",
       "    </tr>\n",
       "    <tr>\n",
       "      <th>past_complaint</th>\n",
       "      <td>35829</td>\n",
       "      <td>2</td>\n",
       "      <td>No</td>\n",
       "      <td>18007</td>\n",
       "    </tr>\n",
       "    <tr>\n",
       "      <th>complaint_status</th>\n",
       "      <td>35829</td>\n",
       "      <td>5</td>\n",
       "      <td>Not Applicable</td>\n",
       "      <td>18007</td>\n",
       "    </tr>\n",
       "    <tr>\n",
       "      <th>feedback</th>\n",
       "      <td>35829</td>\n",
       "      <td>9</td>\n",
       "      <td>Poor Product Quality</td>\n",
       "      <td>6152</td>\n",
       "    </tr>\n",
       "  </tbody>\n",
       "</table>\n",
       "</div>"
      ],
      "text/plain": [
       "                              count unique                    top   freq\n",
       "gender                        35773      2                      F  17892\n",
       "region_category               30566      3                   Town  13702\n",
       "membership_category           35829      6       Basic Membership   7473\n",
       "joining_date                  35829   1096             2015-06-02     55\n",
       "joined_through_referral       30537      2                     No  15354\n",
       "preferred_offer_types         35553      3  Gift Vouchers/Coupons  11977\n",
       "medium_of_operation           30599      3                Desktop  13476\n",
       "internet_option               35829      3                  Wi-Fi  12016\n",
       "used_special_discount         35829      2                    Yes  19718\n",
       "offer_application_preference  35829      2                    Yes  19783\n",
       "past_complaint                35829      2                     No  18007\n",
       "complaint_status              35829      5         Not Applicable  18007\n",
       "feedback                      35829      9   Poor Product Quality   6152"
      ]
     },
     "metadata": {},
     "execution_count": 21
    }
   ],
   "metadata": {}
  },
  {
   "cell_type": "code",
   "execution_count": 22,
   "source": [
    "df.isnull().sum() "
   ],
   "outputs": [
    {
     "output_type": "execute_result",
     "data": {
      "text/plain": [
       "age                                0\n",
       "gender                            56\n",
       "region_category                 5263\n",
       "membership_category                0\n",
       "joining_date                       0\n",
       "joined_through_referral         5292\n",
       "preferred_offer_types            276\n",
       "medium_of_operation             5230\n",
       "internet_option                    0\n",
       "days_since_last_login              0\n",
       "avg_time_spent                     0\n",
       "avg_transaction_value              0\n",
       "avg_frequency_login_days        3419\n",
       "points_in_wallet                3341\n",
       "used_special_discount              0\n",
       "offer_application_preference       0\n",
       "past_complaint                     0\n",
       "complaint_status                   0\n",
       "feedback                           0\n",
       "churn_risk_score                   0\n",
       "dtype: int64"
      ]
     },
     "metadata": {},
     "execution_count": 22
    }
   ],
   "metadata": {}
  },
  {
   "cell_type": "markdown",
   "source": [
    "## Handling Missing value's "
   ],
   "metadata": {}
  },
  {
   "cell_type": "code",
   "execution_count": 24,
   "source": [
    "## Categorical Data\r\n",
    "df['region_category'] = df['region_category'].fillna(df['region_category'].mode()[0])\r\n",
    "df['preferred_offer_types'] = df['preferred_offer_types'].fillna(df['preferred_offer_types'].mode()[0])\r\n",
    "df['gender'] = df['gender'].fillna(df['gender'].mode()[0])\r\n",
    "df['joined_through_referral'] = df['joined_through_referral'].fillna(df['joined_through_referral'].mode()[0])\r\n",
    "df['medium_of_operation'] = df['medium_of_operation'].fillna(df['medium_of_operation'].mode()[0])"
   ],
   "outputs": [],
   "metadata": {}
  },
  {
   "cell_type": "code",
   "execution_count": 25,
   "source": [
    "## numerical data\r\n",
    "df['points_in_wallet'] = df['points_in_wallet'].fillna(df['points_in_wallet'].mean())\r\n",
    "df['avg_frequency_login_days'] = df['avg_frequency_login_days'].fillna(df['avg_frequency_login_days'].mean())"
   ],
   "outputs": [],
   "metadata": {}
  },
  {
   "cell_type": "code",
   "execution_count": 26,
   "source": [
    "df.isnull().sum()"
   ],
   "outputs": [
    {
     "output_type": "execute_result",
     "data": {
      "text/plain": [
       "age                             0\n",
       "gender                          0\n",
       "region_category                 0\n",
       "membership_category             0\n",
       "joining_date                    0\n",
       "joined_through_referral         0\n",
       "preferred_offer_types           0\n",
       "medium_of_operation             0\n",
       "internet_option                 0\n",
       "days_since_last_login           0\n",
       "avg_time_spent                  0\n",
       "avg_transaction_value           0\n",
       "avg_frequency_login_days        0\n",
       "points_in_wallet                0\n",
       "used_special_discount           0\n",
       "offer_application_preference    0\n",
       "past_complaint                  0\n",
       "complaint_status                0\n",
       "feedback                        0\n",
       "churn_risk_score                0\n",
       "dtype: int64"
      ]
     },
     "metadata": {},
     "execution_count": 26
    }
   ],
   "metadata": {}
  },
  {
   "cell_type": "code",
   "execution_count": 38,
   "source": [
    "df[['joining_date']]"
   ],
   "outputs": [
    {
     "output_type": "execute_result",
     "data": {
      "text/html": [
       "<div>\n",
       "<style scoped>\n",
       "    .dataframe tbody tr th:only-of-type {\n",
       "        vertical-align: middle;\n",
       "    }\n",
       "\n",
       "    .dataframe tbody tr th {\n",
       "        vertical-align: top;\n",
       "    }\n",
       "\n",
       "    .dataframe thead th {\n",
       "        text-align: right;\n",
       "    }\n",
       "</style>\n",
       "<table border=\"1\" class=\"dataframe\">\n",
       "  <thead>\n",
       "    <tr style=\"text-align: right;\">\n",
       "      <th></th>\n",
       "      <th>joining_date</th>\n",
       "    </tr>\n",
       "  </thead>\n",
       "  <tbody>\n",
       "    <tr>\n",
       "      <th>0</th>\n",
       "      <td>2017-08-17</td>\n",
       "    </tr>\n",
       "    <tr>\n",
       "      <th>1</th>\n",
       "      <td>2017-08-28</td>\n",
       "    </tr>\n",
       "    <tr>\n",
       "      <th>2</th>\n",
       "      <td>2016-11-11</td>\n",
       "    </tr>\n",
       "    <tr>\n",
       "      <th>3</th>\n",
       "      <td>2016-10-29</td>\n",
       "    </tr>\n",
       "    <tr>\n",
       "      <th>4</th>\n",
       "      <td>2017-09-12</td>\n",
       "    </tr>\n",
       "    <tr>\n",
       "      <th>...</th>\n",
       "      <td>...</td>\n",
       "    </tr>\n",
       "    <tr>\n",
       "      <th>36987</th>\n",
       "      <td>2017-09-21</td>\n",
       "    </tr>\n",
       "    <tr>\n",
       "      <th>36988</th>\n",
       "      <td>2016-06-27</td>\n",
       "    </tr>\n",
       "    <tr>\n",
       "      <th>36989</th>\n",
       "      <td>2016-09-11</td>\n",
       "    </tr>\n",
       "    <tr>\n",
       "      <th>36990</th>\n",
       "      <td>2017-06-15</td>\n",
       "    </tr>\n",
       "    <tr>\n",
       "      <th>36991</th>\n",
       "      <td>2015-10-23</td>\n",
       "    </tr>\n",
       "  </tbody>\n",
       "</table>\n",
       "<p>35829 rows × 1 columns</p>\n",
       "</div>"
      ],
      "text/plain": [
       "      joining_date\n",
       "0       2017-08-17\n",
       "1       2017-08-28\n",
       "2       2016-11-11\n",
       "3       2016-10-29\n",
       "4       2017-09-12\n",
       "...            ...\n",
       "36987   2017-09-21\n",
       "36988   2016-06-27\n",
       "36989   2016-09-11\n",
       "36990   2017-06-15\n",
       "36991   2015-10-23\n",
       "\n",
       "[35829 rows x 1 columns]"
      ]
     },
     "metadata": {},
     "execution_count": 38
    }
   ],
   "metadata": {}
  },
  {
   "cell_type": "code",
   "execution_count": 39,
   "source": [
    "df['joining_day'] = pd.to_datetime(df.joining_date , format = \"%Y/%m/%d\").dt.day           # Extracting Day\r\n",
    "df['joining_month'] = pd.to_datetime(df.joining_date , format = \"%Y/%m/%d\").dt.month       # Extracting Month\r\n",
    "df['joining_year'] = pd.to_datetime(df.joining_date , format = \"%Y/%m/%d\").dt.year         # Extracting Year\r\n",
    "\r\n",
    "df.drop(['joining_date'] , axis = 1 , inplace = True)      # Dropping joining_date"
   ],
   "outputs": [],
   "metadata": {}
  },
  {
   "cell_type": "code",
   "execution_count": 40,
   "source": [
    "df.info()"
   ],
   "outputs": [
    {
     "output_type": "stream",
     "name": "stdout",
     "text": [
      "<class 'pandas.core.frame.DataFrame'>\n",
      "Int64Index: 35829 entries, 0 to 36991\n",
      "Data columns (total 22 columns):\n",
      " #   Column                        Non-Null Count  Dtype  \n",
      "---  ------                        --------------  -----  \n",
      " 0   age                           35829 non-null  int64  \n",
      " 1   gender                        35829 non-null  object \n",
      " 2   region_category               35829 non-null  object \n",
      " 3   membership_category           35829 non-null  object \n",
      " 4   joined_through_referral       35829 non-null  object \n",
      " 5   preferred_offer_types         35829 non-null  object \n",
      " 6   medium_of_operation           35829 non-null  object \n",
      " 7   internet_option               35829 non-null  object \n",
      " 8   days_since_last_login         35829 non-null  int64  \n",
      " 9   avg_time_spent                35829 non-null  float64\n",
      " 10  avg_transaction_value         35829 non-null  float64\n",
      " 11  avg_frequency_login_days      35829 non-null  float64\n",
      " 12  points_in_wallet              35829 non-null  float64\n",
      " 13  used_special_discount         35829 non-null  object \n",
      " 14  offer_application_preference  35829 non-null  object \n",
      " 15  past_complaint                35829 non-null  object \n",
      " 16  complaint_status              35829 non-null  object \n",
      " 17  feedback                      35829 non-null  object \n",
      " 18  churn_risk_score              35829 non-null  int64  \n",
      " 19  joining_day                   35829 non-null  int64  \n",
      " 20  joining_month                 35829 non-null  int64  \n",
      " 21  joining_year                  35829 non-null  int64  \n",
      "dtypes: float64(4), int64(6), object(12)\n",
      "memory usage: 7.3+ MB\n"
     ]
    }
   ],
   "metadata": {}
  },
  {
   "cell_type": "code",
   "execution_count": 91,
   "source": [
    "import matplotlib.gridspec as gridspec"
   ],
   "outputs": [],
   "metadata": {}
  },
  {
   "cell_type": "code",
   "execution_count": 92,
   "source": [
    "fig = plt.figure(constrained_layout=True, figsize=(19,8))\r\n",
    "grid = gridspec.GridSpec(ncols=12, nrows=8, figure=fig)\r\n",
    "\r\n",
    "ax1 = fig.add_subplot(grid[0:4, :4])\r\n",
    "df['churn_risk_score'].value_counts()\r\n",
    "g = sns.barplot(x=df['churn_risk_score'].value_counts().index,y=df['churn_risk_score'].value_counts(), palette='Pastel2')\r\n",
    "for i in g.patches:\r\n",
    "    g.annotate('{:.0f}'.format(i.get_height()), (i.get_x()+0.4, i.get_height()+20),ha='center', va='bottom',\r\n",
    "               color= 'black')\r\n",
    "plt.title('Count of different classes')\r\n",
    "\r\n",
    "ax2 = fig.add_subplot(grid[0:4, 4:])\r\n",
    "colors = ['#CFD6E4', '#EFCFE3', '#E4F0CF', '#F3CFB6', '#B9DCCC']\r\n",
    "df['churn_risk_score'].value_counts().plot(kind='pie', explode=[0.1,0.1,0.1,0.1,0.1], autopct='%.2f%%', colors=colors)\r\n",
    "plt.title('Distribution of different classes')\r\n",
    "plt.show()"
   ],
   "outputs": [
    {
     "output_type": "display_data",
     "data": {
      "image/png": "[encoded data removed]",
      "text/plain": [
       "<Figure size 1368x576 with 2 Axes>"
      ]
     },
     "metadata": {
      "needs_background": "light"
     }
    }
   ],
   "metadata": {}
  },
  {
   "cell_type": "markdown",
   "source": [
    "## Visualizing countplot for :\r\n",
    "internet_option\r\n",
    "medium_of_operation\r\n",
    "region_category\r\n",
    "gender\r\n",
    "w.r.t churn_risk_score"
   ],
   "metadata": {}
  },
  {
   "cell_type": "code",
   "execution_count": 146,
   "source": [
    "plt.figure(figsize=(24,10))\r\n",
    "\r\n",
    "col= ['internet_option','medium_of_operation','region_category','gender']\r\n",
    "i = 1\r\n",
    "for a in col:\r\n",
    "    \r\n",
    "    plt.subplot(2,2,i)\r\n",
    "    g = sns.countplot(x=a,hue='churn_risk_score',data=df,palette='Pastel2')\r\n",
    "    for p in g.patches:\r\n",
    "        g.annotate('{:.0f}'.format(p.get_height()), (p.get_x()+0.08, p.get_height()+20),ha='center', va='bottom',\r\n",
    "                   color= 'black')\r\n",
    "    i = i+1\r\n",
    "    \r\n",
    "plt.tight_layout()"
   ],
   "outputs": [
    {
     "output_type": "display_data",
     "data": {
      "image/png": "[encoded data removed]",
      "text/plain": [
       "<Figure size 1728x720 with 4 Axes>"
      ]
     },
     "metadata": {
      "needs_background": "light"
     }
    }
   ],
   "metadata": {}
  },
  {
   "cell_type": "code",
   "execution_count": 147,
   "source": [
    "colname=[]\r\n",
    "for x in df.columns:\r\n",
    "    if df[x].dtype=='object':\r\n",
    "        colname.append(x)\r\n",
    "colname"
   ],
   "outputs": [
    {
     "output_type": "execute_result",
     "data": {
      "text/plain": [
       "['gender',\n",
       " 'region_category',\n",
       " 'membership_category',\n",
       " 'joined_through_referral',\n",
       " 'preferred_offer_types',\n",
       " 'medium_of_operation',\n",
       " 'internet_option',\n",
       " 'used_special_discount',\n",
       " 'offer_application_preference',\n",
       " 'past_complaint',\n",
       " 'complaint_status',\n",
       " 'feedback']"
      ]
     },
     "metadata": {},
     "execution_count": 147
    }
   ],
   "metadata": {}
  },
  {
   "cell_type": "markdown",
   "source": [
    "## Label Encoding\r\n",
    "Fitting data\r\n",
    "\r\n",
    "    1. Fetching the unique value.\r\n",
    "    2. Arrange them in ascending order.\r\n",
    "    3. Map the values start with 0,1,2....\r\n",
    "\r\n",
    "Transforming data\r\n",
    "    Here it actually replace the data values in the DataFrame"
   ],
   "metadata": {}
  },
  {
   "cell_type": "code",
   "execution_count": 148,
   "source": [
    "from sklearn import preprocessing ##Coverting categorical features into numerical using Label_Encoder\r\n",
    "\r\n",
    "le=preprocessing.LabelEncoder()\r\n",
    "\r\n",
    "for x in colname:\r\n",
    "    df[x]=le.fit_transform(df[x])"
   ],
   "outputs": [],
   "metadata": {}
  },
  {
   "cell_type": "code",
   "execution_count": 149,
   "source": [
    "df.head()"
   ],
   "outputs": [
    {
     "output_type": "execute_result",
     "data": {
      "text/html": [
       "<div>\n",
       "<style scoped>\n",
       "    .dataframe tbody tr th:only-of-type {\n",
       "        vertical-align: middle;\n",
       "    }\n",
       "\n",
       "    .dataframe tbody tr th {\n",
       "        vertical-align: top;\n",
       "    }\n",
       "\n",
       "    .dataframe thead th {\n",
       "        text-align: right;\n",
       "    }\n",
       "</style>\n",
       "<table border=\"1\" class=\"dataframe\">\n",
       "  <thead>\n",
       "    <tr style=\"text-align: right;\">\n",
       "      <th></th>\n",
       "      <th>age</th>\n",
       "      <th>gender</th>\n",
       "      <th>region_category</th>\n",
       "      <th>membership_category</th>\n",
       "      <th>joined_through_referral</th>\n",
       "      <th>preferred_offer_types</th>\n",
       "      <th>medium_of_operation</th>\n",
       "      <th>internet_option</th>\n",
       "      <th>days_since_last_login</th>\n",
       "      <th>avg_time_spent</th>\n",
       "      <th>...</th>\n",
       "      <th>points_in_wallet</th>\n",
       "      <th>used_special_discount</th>\n",
       "      <th>offer_application_preference</th>\n",
       "      <th>past_complaint</th>\n",
       "      <th>complaint_status</th>\n",
       "      <th>feedback</th>\n",
       "      <th>churn_risk_score</th>\n",
       "      <th>joining_day</th>\n",
       "      <th>joining_month</th>\n",
       "      <th>joining_year</th>\n",
       "    </tr>\n",
       "  </thead>\n",
       "  <tbody>\n",
       "    <tr>\n",
       "      <th>0</th>\n",
       "      <td>18</td>\n",
       "      <td>0</td>\n",
       "      <td>2</td>\n",
       "      <td>3</td>\n",
       "      <td>0</td>\n",
       "      <td>1</td>\n",
       "      <td>1</td>\n",
       "      <td>2</td>\n",
       "      <td>17</td>\n",
       "      <td>300.63</td>\n",
       "      <td>...</td>\n",
       "      <td>781.750000</td>\n",
       "      <td>1</td>\n",
       "      <td>1</td>\n",
       "      <td>0</td>\n",
       "      <td>1</td>\n",
       "      <td>4</td>\n",
       "      <td>2</td>\n",
       "      <td>17</td>\n",
       "      <td>8</td>\n",
       "      <td>2017</td>\n",
       "    </tr>\n",
       "    <tr>\n",
       "      <th>1</th>\n",
       "      <td>32</td>\n",
       "      <td>0</td>\n",
       "      <td>0</td>\n",
       "      <td>4</td>\n",
       "      <td>0</td>\n",
       "      <td>1</td>\n",
       "      <td>1</td>\n",
       "      <td>1</td>\n",
       "      <td>16</td>\n",
       "      <td>306.34</td>\n",
       "      <td>...</td>\n",
       "      <td>686.849231</td>\n",
       "      <td>1</td>\n",
       "      <td>0</td>\n",
       "      <td>1</td>\n",
       "      <td>2</td>\n",
       "      <td>5</td>\n",
       "      <td>1</td>\n",
       "      <td>28</td>\n",
       "      <td>8</td>\n",
       "      <td>2017</td>\n",
       "    </tr>\n",
       "    <tr>\n",
       "      <th>2</th>\n",
       "      <td>44</td>\n",
       "      <td>0</td>\n",
       "      <td>1</td>\n",
       "      <td>2</td>\n",
       "      <td>1</td>\n",
       "      <td>1</td>\n",
       "      <td>1</td>\n",
       "      <td>2</td>\n",
       "      <td>14</td>\n",
       "      <td>516.16</td>\n",
       "      <td>...</td>\n",
       "      <td>500.690000</td>\n",
       "      <td>0</td>\n",
       "      <td>1</td>\n",
       "      <td>1</td>\n",
       "      <td>3</td>\n",
       "      <td>3</td>\n",
       "      <td>5</td>\n",
       "      <td>11</td>\n",
       "      <td>11</td>\n",
       "      <td>2016</td>\n",
       "    </tr>\n",
       "    <tr>\n",
       "      <th>3</th>\n",
       "      <td>37</td>\n",
       "      <td>1</td>\n",
       "      <td>0</td>\n",
       "      <td>2</td>\n",
       "      <td>1</td>\n",
       "      <td>1</td>\n",
       "      <td>1</td>\n",
       "      <td>1</td>\n",
       "      <td>11</td>\n",
       "      <td>53.27</td>\n",
       "      <td>...</td>\n",
       "      <td>567.660000</td>\n",
       "      <td>0</td>\n",
       "      <td>1</td>\n",
       "      <td>1</td>\n",
       "      <td>4</td>\n",
       "      <td>3</td>\n",
       "      <td>5</td>\n",
       "      <td>29</td>\n",
       "      <td>10</td>\n",
       "      <td>2016</td>\n",
       "    </tr>\n",
       "    <tr>\n",
       "      <th>4</th>\n",
       "      <td>31</td>\n",
       "      <td>0</td>\n",
       "      <td>0</td>\n",
       "      <td>2</td>\n",
       "      <td>0</td>\n",
       "      <td>0</td>\n",
       "      <td>2</td>\n",
       "      <td>1</td>\n",
       "      <td>20</td>\n",
       "      <td>113.13</td>\n",
       "      <td>...</td>\n",
       "      <td>663.060000</td>\n",
       "      <td>0</td>\n",
       "      <td>1</td>\n",
       "      <td>1</td>\n",
       "      <td>2</td>\n",
       "      <td>3</td>\n",
       "      <td>5</td>\n",
       "      <td>12</td>\n",
       "      <td>9</td>\n",
       "      <td>2017</td>\n",
       "    </tr>\n",
       "  </tbody>\n",
       "</table>\n",
       "<p>5 rows × 22 columns</p>\n",
       "</div>"
      ],
      "text/plain": [
       "   age  gender  region_category  membership_category  joined_through_referral  \\\n",
       "0   18       0                2                    3                        0   \n",
       "1   32       0                0                    4                        0   \n",
       "2   44       0                1                    2                        1   \n",
       "3   37       1                0                    2                        1   \n",
       "4   31       0                0                    2                        0   \n",
       "\n",
       "   preferred_offer_types  medium_of_operation  internet_option  \\\n",
       "0                      1                    1                2   \n",
       "1                      1                    1                1   \n",
       "2                      1                    1                2   \n",
       "3                      1                    1                1   \n",
       "4                      0                    2                1   \n",
       "\n",
       "   days_since_last_login  avg_time_spent  ...  points_in_wallet  \\\n",
       "0                     17          300.63  ...        781.750000   \n",
       "1                     16          306.34  ...        686.849231   \n",
       "2                     14          516.16  ...        500.690000   \n",
       "3                     11           53.27  ...        567.660000   \n",
       "4                     20          113.13  ...        663.060000   \n",
       "\n",
       "   used_special_discount  offer_application_preference  past_complaint  \\\n",
       "0                      1                             1               0   \n",
       "1                      1                             0               1   \n",
       "2                      0                             1               1   \n",
       "3                      0                             1               1   \n",
       "4                      0                             1               1   \n",
       "\n",
       "   complaint_status  feedback  churn_risk_score  joining_day  joining_month  \\\n",
       "0                 1         4                 2           17              8   \n",
       "1                 2         5                 1           28              8   \n",
       "2                 3         3                 5           11             11   \n",
       "3                 4         3                 5           29             10   \n",
       "4                 2         3                 5           12              9   \n",
       "\n",
       "   joining_year  \n",
       "0          2017  \n",
       "1          2017  \n",
       "2          2016  \n",
       "3          2016  \n",
       "4          2017  \n",
       "\n",
       "[5 rows x 22 columns]"
      ]
     },
     "metadata": {},
     "execution_count": 149
    }
   ],
   "metadata": {}
  },
  {
   "cell_type": "code",
   "execution_count": 150,
   "source": [
    "lastcolumn = df.pop('churn_risk_score')\r\n",
    "df['churn_risk_score'] = lastcolumn\r\n",
    "df.head()"
   ],
   "outputs": [
    {
     "output_type": "execute_result",
     "data": {
      "text/html": [
       "<div>\n",
       "<style scoped>\n",
       "    .dataframe tbody tr th:only-of-type {\n",
       "        vertical-align: middle;\n",
       "    }\n",
       "\n",
       "    .dataframe tbody tr th {\n",
       "        vertical-align: top;\n",
       "    }\n",
       "\n",
       "    .dataframe thead th {\n",
       "        text-align: right;\n",
       "    }\n",
       "</style>\n",
       "<table border=\"1\" class=\"dataframe\">\n",
       "  <thead>\n",
       "    <tr style=\"text-align: right;\">\n",
       "      <th></th>\n",
       "      <th>age</th>\n",
       "      <th>gender</th>\n",
       "      <th>region_category</th>\n",
       "      <th>membership_category</th>\n",
       "      <th>joined_through_referral</th>\n",
       "      <th>preferred_offer_types</th>\n",
       "      <th>medium_of_operation</th>\n",
       "      <th>internet_option</th>\n",
       "      <th>days_since_last_login</th>\n",
       "      <th>avg_time_spent</th>\n",
       "      <th>...</th>\n",
       "      <th>points_in_wallet</th>\n",
       "      <th>used_special_discount</th>\n",
       "      <th>offer_application_preference</th>\n",
       "      <th>past_complaint</th>\n",
       "      <th>complaint_status</th>\n",
       "      <th>feedback</th>\n",
       "      <th>joining_day</th>\n",
       "      <th>joining_month</th>\n",
       "      <th>joining_year</th>\n",
       "      <th>churn_risk_score</th>\n",
       "    </tr>\n",
       "  </thead>\n",
       "  <tbody>\n",
       "    <tr>\n",
       "      <th>0</th>\n",
       "      <td>18</td>\n",
       "      <td>0</td>\n",
       "      <td>2</td>\n",
       "      <td>3</td>\n",
       "      <td>0</td>\n",
       "      <td>1</td>\n",
       "      <td>1</td>\n",
       "      <td>2</td>\n",
       "      <td>17</td>\n",
       "      <td>300.63</td>\n",
       "      <td>...</td>\n",
       "      <td>781.750000</td>\n",
       "      <td>1</td>\n",
       "      <td>1</td>\n",
       "      <td>0</td>\n",
       "      <td>1</td>\n",
       "      <td>4</td>\n",
       "      <td>17</td>\n",
       "      <td>8</td>\n",
       "      <td>2017</td>\n",
       "      <td>2</td>\n",
       "    </tr>\n",
       "    <tr>\n",
       "      <th>1</th>\n",
       "      <td>32</td>\n",
       "      <td>0</td>\n",
       "      <td>0</td>\n",
       "      <td>4</td>\n",
       "      <td>0</td>\n",
       "      <td>1</td>\n",
       "      <td>1</td>\n",
       "      <td>1</td>\n",
       "      <td>16</td>\n",
       "      <td>306.34</td>\n",
       "      <td>...</td>\n",
       "      <td>686.849231</td>\n",
       "      <td>1</td>\n",
       "      <td>0</td>\n",
       "      <td>1</td>\n",
       "      <td>2</td>\n",
       "      <td>5</td>\n",
       "      <td>28</td>\n",
       "      <td>8</td>\n",
       "      <td>2017</td>\n",
       "      <td>1</td>\n",
       "    </tr>\n",
       "    <tr>\n",
       "      <th>2</th>\n",
       "      <td>44</td>\n",
       "      <td>0</td>\n",
       "      <td>1</td>\n",
       "      <td>2</td>\n",
       "      <td>1</td>\n",
       "      <td>1</td>\n",
       "      <td>1</td>\n",
       "      <td>2</td>\n",
       "      <td>14</td>\n",
       "      <td>516.16</td>\n",
       "      <td>...</td>\n",
       "      <td>500.690000</td>\n",
       "      <td>0</td>\n",
       "      <td>1</td>\n",
       "      <td>1</td>\n",
       "      <td>3</td>\n",
       "      <td>3</td>\n",
       "      <td>11</td>\n",
       "      <td>11</td>\n",
       "      <td>2016</td>\n",
       "      <td>5</td>\n",
       "    </tr>\n",
       "    <tr>\n",
       "      <th>3</th>\n",
       "      <td>37</td>\n",
       "      <td>1</td>\n",
       "      <td>0</td>\n",
       "      <td>2</td>\n",
       "      <td>1</td>\n",
       "      <td>1</td>\n",
       "      <td>1</td>\n",
       "      <td>1</td>\n",
       "      <td>11</td>\n",
       "      <td>53.27</td>\n",
       "      <td>...</td>\n",
       "      <td>567.660000</td>\n",
       "      <td>0</td>\n",
       "      <td>1</td>\n",
       "      <td>1</td>\n",
       "      <td>4</td>\n",
       "      <td>3</td>\n",
       "      <td>29</td>\n",
       "      <td>10</td>\n",
       "      <td>2016</td>\n",
       "      <td>5</td>\n",
       "    </tr>\n",
       "    <tr>\n",
       "      <th>4</th>\n",
       "      <td>31</td>\n",
       "      <td>0</td>\n",
       "      <td>0</td>\n",
       "      <td>2</td>\n",
       "      <td>0</td>\n",
       "      <td>0</td>\n",
       "      <td>2</td>\n",
       "      <td>1</td>\n",
       "      <td>20</td>\n",
       "      <td>113.13</td>\n",
       "      <td>...</td>\n",
       "      <td>663.060000</td>\n",
       "      <td>0</td>\n",
       "      <td>1</td>\n",
       "      <td>1</td>\n",
       "      <td>2</td>\n",
       "      <td>3</td>\n",
       "      <td>12</td>\n",
       "      <td>9</td>\n",
       "      <td>2017</td>\n",
       "      <td>5</td>\n",
       "    </tr>\n",
       "  </tbody>\n",
       "</table>\n",
       "<p>5 rows × 22 columns</p>\n",
       "</div>"
      ],
      "text/plain": [
       "   age  gender  region_category  membership_category  joined_through_referral  \\\n",
       "0   18       0                2                    3                        0   \n",
       "1   32       0                0                    4                        0   \n",
       "2   44       0                1                    2                        1   \n",
       "3   37       1                0                    2                        1   \n",
       "4   31       0                0                    2                        0   \n",
       "\n",
       "   preferred_offer_types  medium_of_operation  internet_option  \\\n",
       "0                      1                    1                2   \n",
       "1                      1                    1                1   \n",
       "2                      1                    1                2   \n",
       "3                      1                    1                1   \n",
       "4                      0                    2                1   \n",
       "\n",
       "   days_since_last_login  avg_time_spent  ...  points_in_wallet  \\\n",
       "0                     17          300.63  ...        781.750000   \n",
       "1                     16          306.34  ...        686.849231   \n",
       "2                     14          516.16  ...        500.690000   \n",
       "3                     11           53.27  ...        567.660000   \n",
       "4                     20          113.13  ...        663.060000   \n",
       "\n",
       "   used_special_discount  offer_application_preference  past_complaint  \\\n",
       "0                      1                             1               0   \n",
       "1                      1                             0               1   \n",
       "2                      0                             1               1   \n",
       "3                      0                             1               1   \n",
       "4                      0                             1               1   \n",
       "\n",
       "   complaint_status  feedback  joining_day  joining_month  joining_year  \\\n",
       "0                 1         4           17              8          2017   \n",
       "1                 2         5           28              8          2017   \n",
       "2                 3         3           11             11          2016   \n",
       "3                 4         3           29             10          2016   \n",
       "4                 2         3           12              9          2017   \n",
       "\n",
       "   churn_risk_score  \n",
       "0                 2  \n",
       "1                 1  \n",
       "2                 5  \n",
       "3                 5  \n",
       "4                 5  \n",
       "\n",
       "[5 rows x 22 columns]"
      ]
     },
     "metadata": {},
     "execution_count": 150
    }
   ],
   "metadata": {}
  },
  {
   "cell_type": "code",
   "execution_count": 151,
   "source": [
    "X = df.drop('churn_risk_score',axis = 1)        # Independent Variable\r\n",
    "Y = df['churn_risk_score']                      # Dependent Variable [target variable]\r\n",
    "Y=Y.astype(int)"
   ],
   "outputs": [],
   "metadata": {}
  },
  {
   "cell_type": "code",
   "execution_count": 152,
   "source": [
    "print(X.shape)\r\n",
    "print(Y.shape)"
   ],
   "outputs": [
    {
     "output_type": "stream",
     "name": "stdout",
     "text": [
      "(35829, 21)\n",
      "(35829,)\n"
     ]
    }
   ],
   "metadata": {}
  },
  {
   "cell_type": "code",
   "execution_count": 153,
   "source": [
    "from sklearn.model_selection import train_test_split\r\n",
    "\r\n",
    "#Split the data into test and train\r\n",
    "X_train, X_test, Y_train, Y_test = train_test_split(X, Y, test_size=0.3,random_state=10)"
   ],
   "outputs": [],
   "metadata": {}
  },
  {
   "cell_type": "code",
   "execution_count": 154,
   "source": [
    "print(X_train.shape)\r\n",
    "print(Y_train.shape)\r\n",
    "print(X_test.shape)\r\n",
    "print(Y_test.shape)"
   ],
   "outputs": [
    {
     "output_type": "stream",
     "name": "stdout",
     "text": [
      "(25080, 21)\n",
      "(25080,)\n",
      "(10749, 21)\n",
      "(10749,)\n"
     ]
    }
   ],
   "metadata": {}
  },
  {
   "cell_type": "code",
   "execution_count": 155,
   "source": [
    "from sklearn.preprocessing import StandardScaler ## Using StandardScaler to scale the train and test sets into scaled versions.\r\n",
    "scaler= StandardScaler()\r\n",
    "X_train = scaler.fit_transform(X_train)\r\n",
    "X_test = scaler.transform(X_test)"
   ],
   "outputs": [],
   "metadata": {}
  },
  {
   "cell_type": "code",
   "execution_count": 156,
   "source": [
    "print(X_train)\r\n",
    "print(\" ---------------------------------------------------------------------------------------------------------  \")\r\n",
    "print(X_test)"
   ],
   "outputs": [
    {
     "output_type": "stream",
     "name": "stdout",
     "text": [
      "[[-0.13747064  1.00471606 -1.20390411 ...  1.29089891  0.71533323\n",
      "   1.21536271]\n",
      " [-0.70445413 -0.99530607 -1.20390411 ...  0.60899085 -1.02037382\n",
      "   1.21536271]\n",
      " [-0.83045046  1.00471606 -1.20390411 ... -0.07291722 -1.59894284\n",
      "  -1.22236095]\n",
      " ...\n",
      " [ 0.42951285  1.00471606  0.33581619 ... -1.66403604 -0.73108931\n",
      "  -1.22236095]\n",
      " [-0.95644679 -0.99530607 -1.20390411 ...  0.15438547 -0.73108931\n",
      "  -0.00349912]\n",
      " [-0.07447247 -0.99530607  0.33581619 ... -0.52752259 -0.1525203\n",
      "  -1.22236095]]\n",
      " ---------------------------------------------------------------------------------------------------------  \n",
      "[[-1.52343029 -0.99530607 -1.20390411 ...  0.26803682 -0.44180481\n",
      "  -0.00349912]\n",
      " [ 0.80750185 -0.99530607  0.33581619 ... -1.323082   -1.30965833\n",
      "   1.21536271]\n",
      " [ 1.68947617 -0.99530607 -1.20390411 ... -0.75482528  1.58318675\n",
      "  -0.00349912]\n",
      " ...\n",
      " [-0.70445413  1.00471606  0.33581619 ... -1.43673335 -0.73108931\n",
      "  -0.00349912]\n",
      " [-1.58642845  1.00471606 -1.20390411 ... -0.64117394  1.29390224\n",
      "  -1.22236095]\n",
      " [ 0.05152386 -0.99530607 -1.20390411 ... -0.52752259 -0.1525203\n",
      "   1.21536271]]\n"
     ]
    }
   ],
   "metadata": {}
  },
  {
   "cell_type": "code",
   "execution_count": 168,
   "source": [
    "from sklearn.tree import DecisionTreeClassifier\r\n",
    "from sklearn.ensemble import RandomForestClassifier, BaggingClassifier, AdaBoostClassifier,GradientBoostingClassifier\r\n",
    "from sklearn import ensemble\r\n",
    "from xgboost.sklearn import XGBClassifier\r\n",
    "from sklearn.metrics import confusion_matrix, accuracy_score,classification_report"
   ],
   "outputs": [],
   "metadata": {}
  },
  {
   "cell_type": "code",
   "execution_count": 162,
   "source": [
    "model_DecisionTree=DecisionTreeClassifier(criterion=\"gini\",random_state=10)\r\n",
    "\r\n",
    "#fit the model on the data and predict the values\r\n",
    "model_DecisionTree.fit(X_train,Y_train)\r\n",
    "Y_pred=model_DecisionTree.predict(X_test)\r\n",
    "print(classification_report(Y_test,Y_pred))\r\n",
    "print(\"Accuracy of The Model :\",accuracy_score(Y_test,Y_pred)*100)\r\n"
   ],
   "outputs": [
    {
     "output_type": "stream",
     "name": "stdout",
     "text": [
      "              precision    recall  f1-score   support\n",
      "\n",
      "           1       0.73      0.74      0.74       779\n",
      "           2       0.75      0.75      0.75       831\n",
      "           3       0.91      0.91      0.91      3157\n",
      "           4       0.64      0.64      0.64      2998\n",
      "           5       0.73      0.73      0.73      2984\n",
      "\n",
      "    accuracy                           0.76     10749\n",
      "   macro avg       0.75      0.75      0.75     10749\n",
      "weighted avg       0.76      0.76      0.76     10749\n",
      "\n",
      "Accuracy of The Model : 76.10940552609546\n"
     ]
    }
   ],
   "metadata": {}
  },
  {
   "cell_type": "code",
   "execution_count": 163,
   "source": [
    "model_AdaBoost=AdaBoostClassifier(base_estimator=DecisionTreeClassifier(random_state=10),\r\n",
    "                                  n_estimators=10,\r\n",
    "                                  random_state=10)\r\n",
    "#fit the model on the data and predict the values\r\n",
    "model_AdaBoost.fit(X_train,Y_train)\r\n",
    "Y_pred=model_AdaBoost.predict(X_test)\r\n",
    "print(classification_report(Y_test,Y_pred))\r\n",
    "print(\"Accuracy of The Model :\",accuracy_score(Y_test,Y_pred)*100)"
   ],
   "outputs": [
    {
     "output_type": "stream",
     "name": "stdout",
     "text": [
      "              precision    recall  f1-score   support\n",
      "\n",
      "           1       0.73      0.74      0.74       779\n",
      "           2       0.76      0.74      0.75       831\n",
      "           3       0.91      0.92      0.91      3157\n",
      "           4       0.64      0.65      0.64      2998\n",
      "           5       0.73      0.72      0.73      2984\n",
      "\n",
      "    accuracy                           0.76     10749\n",
      "   macro avg       0.75      0.75      0.75     10749\n",
      "weighted avg       0.76      0.76      0.76     10749\n",
      "\n",
      "Accuracy of The Model : 76.10010233510094\n"
     ]
    }
   ],
   "metadata": {}
  },
  {
   "cell_type": "code",
   "execution_count": 164,
   "source": [
    "model_RandomForest=RandomForestClassifier(n_estimators=100, random_state=10)\r\n",
    "\r\n",
    "#fit the model on the data and predict the values\r\n",
    "model_RandomForest.fit(X_train,Y_train)\r\n",
    "\r\n",
    "Y_pred=model_RandomForest.predict(X_test)\r\n",
    "print(classification_report(Y_test,Y_pred))\r\n",
    "print(\"Accuracy of The Model :\",accuracy_score(Y_test,Y_pred)*100)"
   ],
   "outputs": [
    {
     "output_type": "stream",
     "name": "stdout",
     "text": [
      "              precision    recall  f1-score   support\n",
      "\n",
      "           1       0.72      0.76      0.74       779\n",
      "           2       0.76      0.71      0.74       831\n",
      "           3       0.91      0.90      0.91      3157\n",
      "           4       0.68      0.60      0.64      2998\n",
      "           5       0.72      0.82      0.77      2984\n",
      "\n",
      "    accuracy                           0.77     10749\n",
      "   macro avg       0.76      0.76      0.76     10749\n",
      "weighted avg       0.77      0.77      0.77     10749\n",
      "\n",
      "Accuracy of The Model : 76.80714485068378\n"
     ]
    }
   ],
   "metadata": {}
  },
  {
   "cell_type": "code",
   "execution_count": 165,
   "source": [
    "from sklearn.ensemble import GradientBoostingClassifier\r\n",
    "\r\n",
    "model_GradientBoosting=GradientBoostingClassifier(n_estimators=150,\r\n",
    "                                                  random_state=10)\r\n",
    "\r\n",
    "#fit the model on the data and predict the values\r\n",
    "model_GradientBoosting.fit(X_train,Y_train)\r\n",
    "\r\n",
    "Y_pred=model_GradientBoosting.predict(X_test)\r\n",
    "print(classification_report(Y_test,Y_pred))\r\n",
    "print(\"Accuracy of The Model :\",accuracy_score(Y_test,Y_pred)*100)"
   ],
   "outputs": [
    {
     "output_type": "stream",
     "name": "stdout",
     "text": [
      "              precision    recall  f1-score   support\n",
      "\n",
      "           1       0.70      0.88      0.78       779\n",
      "           2       0.85      0.65      0.74       831\n",
      "           3       0.93      0.90      0.91      3157\n",
      "           4       0.73      0.59      0.65      2998\n",
      "           5       0.72      0.89      0.79      2984\n",
      "\n",
      "    accuracy                           0.79     10749\n",
      "   macro avg       0.79      0.78      0.78     10749\n",
      "weighted avg       0.79      0.79      0.78     10749\n",
      "\n",
      "Accuracy of The Model : 78.73290538654759\n"
     ]
    }
   ],
   "metadata": {}
  },
  {
   "cell_type": "code",
   "execution_count": 169,
   "source": [
    "model_XGradientBoosting=XGBClassifier(n_estimators=150,leaning_rate = 0.01 ,max_depth = 15, random_state=10)\r\n",
    "\r\n",
    "#fit the model on the data and predict the values\r\n",
    "model_XGradientBoosting.fit(X_train,Y_train)\r\n",
    "\r\n",
    "Y_pred=model_XGradientBoosting.predict(X_test)\r\n",
    "print(classification_report(Y_test,Y_pred))\r\n",
    "print(\"Accuracy of The Model :\",accuracy_score(Y_test,Y_pred)*100)"
   ],
   "outputs": [
    {
     "output_type": "stream",
     "name": "stdout",
     "text": [
      "[18:34:15] WARNING: ..\\src\\learner.cc:573: \n",
      "Parameters: { \"leaning_rate\" } might not be used.\n",
      "\n",
      "  This may not be accurate due to some parameters are only used in language bindings but\n",
      "  passed down to XGBoost core.  Or some parameters are not used but slip through this\n",
      "  verification. Please open an issue if you find above cases.\n",
      "\n",
      "\n",
      "[18:34:17] WARNING: ..\\src\\learner.cc:1095: Starting in XGBoost 1.3.0, the default evaluation metric used with the objective 'multi:softprob' was changed from 'merror' to 'mlogloss'. Explicitly set eval_metric if you'd like to restore the old behavior.\n",
      "              precision    recall  f1-score   support\n",
      "\n",
      "           1       0.71      0.78      0.74       779\n",
      "           2       0.77      0.70      0.74       831\n",
      "           3       0.92      0.91      0.92      3157\n",
      "           4       0.67      0.62      0.64      2998\n",
      "           5       0.73      0.79      0.76      2984\n",
      "\n",
      "    accuracy                           0.77     10749\n",
      "   macro avg       0.76      0.76      0.76     10749\n",
      "weighted avg       0.77      0.77      0.77     10749\n",
      "\n",
      "Accuracy of The Model : 77.0769373895246\n"
     ]
    }
   ],
   "metadata": {}
  },
  {
   "cell_type": "code",
   "execution_count": 171,
   "source": [
    "model_XGradientBoosting=XGBClassifier(n_estimators=150,leaning_rate = 0.01 ,max_depth = 15, random_state=10)\r\n",
    "\r\n",
    "#fit the model on the data and predict the values\r\n",
    "model_XGradientBoosting.fit(X_train,Y_train)\r\n",
    "\r\n",
    "Y_pred=model_XGradientBoosting.predict(X_test)\r\n",
    "print(classification_report(Y_test,Y_pred))\r\n",
    "print(\"Accuracy of The Model :\",accuracy_score(Y_test,Y_pred)*100)"
   ],
   "outputs": [
    {
     "output_type": "stream",
     "name": "stdout",
     "text": [
      "[18:38:24] WARNING: ..\\src\\learner.cc:1095: Starting in XGBoost 1.3.0, the default evaluation metric used with the objective 'multi:softprob' was changed from 'merror' to 'mlogloss'. Explicitly set eval_metric if you'd like to restore the old behavior.\n",
      "              precision    recall  f1-score   support\n",
      "\n",
      "           1       0.71      0.75      0.73       779\n",
      "           2       0.76      0.71      0.73       831\n",
      "           3       0.92      0.91      0.91      3157\n",
      "           4       0.68      0.62      0.65      2998\n",
      "           5       0.73      0.81      0.77      2984\n",
      "\n",
      "    accuracy                           0.77     10749\n",
      "   macro avg       0.76      0.76      0.76     10749\n",
      "weighted avg       0.77      0.77      0.77     10749\n",
      "\n",
      "Accuracy of The Model : 77.3188203553819\n"
     ]
    }
   ],
   "metadata": {}
  },
  {
   "cell_type": "code",
   "execution_count": 208,
   "source": [
    "Models = [\"Decision Tree\",\"Random Forest\",\"Adaptive Boosting\",\"Gradient Boosting\",\"Xtream Gradient Boosting\"]\r\n",
    "Accuracy = [76.10,76.80,76.10,78.73,77.07]\r\n",
    "Models = pd.DataFrame({'Model':Models,'accuracy':Accuracy})\r\n",
    "print(Models)\r\n",
    "Models = Models.set_index('Model')\r\n",
    "plt.figure(figsize=(20,5))\r\n",
    "Models['accuracy'].sort_values().plot(kind='barh', color=colors, align='center')\r\n",
    "plt.title('Accuracy for models')"
   ],
   "outputs": [
    {
     "output_type": "stream",
     "name": "stdout",
     "text": [
      "                      Model  accuracy\n",
      "0             Decision Tree     76.10\n",
      "1             Random Forest     76.80\n",
      "2         Adaptive Boosting     76.10\n",
      "3         Gradient Boosting     78.73\n",
      "4  Xtream Gradient Boosting     77.07\n"
     ]
    },
    {
     "output_type": "execute_result",
     "data": {
      "text/plain": [
       "Text(0.5, 1.0, 'Accuracy for models')"
      ]
     },
     "metadata": {},
     "execution_count": 208
    },
    {
     "output_type": "display_data",
     "data": {
      "image/png": "[encoded data removed]",
      "text/plain": [
       "<Figure size 1440x360 with 1 Axes>"
      ]
     },
     "metadata": {
      "needs_background": "light"
     }
    }
   ],
   "metadata": {}
  },
  {
   "cell_type": "code",
   "execution_count": 209,
   "source": [
    "## Gradient Boosting is optimal \r\n",
    "plt.figure(figsize=(6, 6))\r\n",
    "ax = plt.subplot()\r\n",
    "cm = confusion_matrix(Y_test,Y_pred)\r\n",
    "sns.heatmap(cm, annot=True, ax = ax, fmt = 'g' ,cmap=plt.cm.Blues)\r\n",
    "ax.set_xlabel('Predicted label')\r\n",
    "ax.set_ylabel('Actual label')\r\n",
    "plt.show()"
   ],
   "outputs": [
    {
     "output_type": "display_data",
     "data": {
      "image/png": "[encoded data removed]",
      "text/plain": [
       "<Figure size 432x432 with 2 Axes>"
      ]
     },
     "metadata": {
      "needs_background": "light"
     }
    }
   ],
   "metadata": {}
  },
  {
   "cell_type": "markdown",
   "source": [
    "## Tuning Gradient Boosting with Hyperparameter"
   ],
   "metadata": {}
  },
  {
   "cell_type": "code",
   "execution_count": 210,
   "source": [
    "from sklearn.ensemble import GradientBoostingClassifier\r\n",
    "\r\n",
    "model_GradientBoosting=GradientBoostingClassifier(n_estimators=63,max_depth= 4,max_features= 12,\r\n",
    "                                                  min_samples_leaf= 2,min_samples_split= 11,random_state=10)\r\n",
    "\r\n",
    "#fit the model on the data and predict the values\r\n",
    "model_GradientBoosting.fit(X_train,Y_train)\r\n",
    "\r\n",
    "Y_pred=model_GradientBoosting.predict(X_test)"
   ],
   "outputs": [],
   "metadata": {}
  },
  {
   "cell_type": "code",
   "execution_count": 211,
   "source": [
    "plt.figure(figsize=(6, 6))\r\n",
    "ax = plt.subplot()\r\n",
    "cm = confusion_matrix(Y_test,Y_pred)\r\n",
    "sns.heatmap(cm, annot=True, ax = ax, fmt = 'g' ,cmap=plt.cm.Blues)\r\n",
    "ax.set_xlabel('Predicted label')\r\n",
    "ax.set_ylabel('Actual label')\r\n",
    "plt.show()\r\n",
    "\r\n",
    "print(classification_report(Y_test,Y_pred))\r\n",
    "print(\"Accuracy of The Model :\",accuracy_score(Y_test,Y_pred)*100)"
   ],
   "outputs": [
    {
     "output_type": "display_data",
     "data": {
      "image/png": "[encoded data removed]",
      "text/plain": [
       "<Figure size 432x432 with 2 Axes>"
      ]
     },
     "metadata": {
      "needs_background": "light"
     }
    },
    {
     "output_type": "stream",
     "name": "stdout",
     "text": [
      "              precision    recall  f1-score   support\n",
      "\n",
      "           1       0.70      0.88      0.78       779\n",
      "           2       0.85      0.65      0.74       831\n",
      "           3       0.94      0.89      0.91      3157\n",
      "           4       0.75      0.56      0.64      2998\n",
      "           5       0.71      0.93      0.80      2984\n",
      "\n",
      "    accuracy                           0.79     10749\n",
      "   macro avg       0.79      0.78      0.77     10749\n",
      "weighted avg       0.80      0.79      0.78     10749\n",
      "\n",
      "Accuracy of The Model : 78.8259372964927\n"
     ]
    }
   ],
   "metadata": {}
  },
  {
   "cell_type": "markdown",
   "source": [
    "## Testing Data\r\n",
    "# Pre-processing on Testing Data"
   ],
   "metadata": {}
  },
  {
   "cell_type": "code",
   "execution_count": 215,
   "source": [
    "wd = os.getcwd()\r\n",
    "filepath1 = os.path.join(pwd, \"test.csv\")\r\n",
    "filepath1"
   ],
   "outputs": [
    {
     "output_type": "execute_result",
     "data": {
      "text/plain": [
       "'d:\\\\python_ml\\\\New folder\\\\test.csv'"
      ]
     },
     "metadata": {},
     "execution_count": 215
    }
   ],
   "metadata": {}
  },
  {
   "cell_type": "code",
   "execution_count": 217,
   "source": [
    "tf = pd.read_csv(filepath1 , na_values = ['?','Error','Unknown'])\r\n",
    "\r\n",
    "tf.drop(['customer_id', 'Name' , 'security_no' ,\r\n",
    "       'referral_id', 'last_visit_time'] , axis = 1 , inplace = True)\r\n",
    "\r\n",
    "tf['region_category'] = tf['region_category'].fillna(tf['region_category'].mode()[0])\r\n",
    "tf['preferred_offer_types'] = tf['preferred_offer_types'].fillna(tf['preferred_offer_types'].mode()[0])\r\n",
    "tf['points_in_wallet'] = tf['points_in_wallet'].fillna(tf['points_in_wallet'].mean())\r\n",
    "\r\n",
    "tf['gender'] = tf['gender'].fillna(tf['gender'].mode()[0])\r\n",
    "\r\n",
    "tf['joined_through_referral'] = tf['joined_through_referral'].fillna(tf['joined_through_referral'].mode()[0])\r\n",
    "tf['medium_of_operation'] = tf['medium_of_operation'].fillna(tf['medium_of_operation'].mode()[0])\r\n",
    "tf['avg_frequency_login_days'] = tf['avg_frequency_login_days'].fillna(tf['avg_frequency_login_days'].mean())\r\n",
    "\r\n",
    "\r\n",
    "tf['joining_day'] = pd.to_datetime(tf.joining_date , format = \"%Y/%m/%d\").dt.day\r\n",
    "tf['joining_month'] = pd.to_datetime(tf.joining_date , format = \"%Y/%m/%d\").dt.month\r\n",
    "tf['joining_year'] = pd.to_datetime(tf.joining_date , format = \"%Y/%m/%d\").dt.year\r\n",
    "\r\n",
    "tf.drop(['joining_date'] , axis = 1 , inplace = True)\r\n",
    "\r\n",
    "\r\n",
    "colname=[]\r\n",
    "for x in tf.columns:\r\n",
    "    if tf[x].dtype=='object':\r\n",
    "        colname.append(x)\r\n",
    "        \r\n",
    "\r\n",
    "for x in colname:\r\n",
    "    tf[x]=le.fit_transform(tf[x])\r\n",
    "\r\n",
    "                                                                       \r\n",
    "#tf.head()                                                                       \r\n",
    "test = scaler.transform(tf)"
   ],
   "outputs": [],
   "metadata": {}
  },
  {
   "cell_type": "markdown",
   "source": [
    "## Applying Tuned Gradient Boosting Classifier on Testing Data"
   ],
   "metadata": {}
  },
  {
   "cell_type": "code",
   "execution_count": 218,
   "source": [
    "from sklearn.ensemble import GradientBoostingClassifier\r\n",
    "\r\n",
    "model_GradientBoosting=GradientBoostingClassifier(n_estimators=63,max_depth= 4,max_features= 12,\r\n",
    "                                                  min_samples_leaf= 2,min_samples_split= 11,random_state=10)\r\n",
    "\r\n",
    "#fit the model on the data and predict the values\r\n",
    "model_GradientBoosting.fit(X_train,Y_train)\r\n",
    "\r\n",
    "Y_pred=model_GradientBoosting.predict(test)"
   ],
   "outputs": [],
   "metadata": {}
  },
  {
   "cell_type": "code",
   "execution_count": 219,
   "source": [
    "\r\n",
    "Y_pred"
   ],
   "outputs": [
    {
     "output_type": "execute_result",
     "data": {
      "text/plain": [
       "array([3, 3, 3, ..., 5, 4, 3])"
      ]
     },
     "metadata": {},
     "execution_count": 219
    }
   ],
   "metadata": {}
  },
  {
   "cell_type": "code",
   "execution_count": 220,
   "source": [
    "testing_data = pd.read_csv(filepath1, na_values = ['?','Error','Unknown'])\r\n",
    "\r\n",
    "Churn_Risk_Score=testing_data[['customer_id','Name']]\r\n",
    "Churn_Risk_Score['Churn Score'] = Y_pred"
   ],
   "outputs": [],
   "metadata": {}
  },
  {
   "cell_type": "code",
   "execution_count": 221,
   "source": [
    "Churn_Risk_Score"
   ],
   "outputs": [
    {
     "output_type": "execute_result",
     "data": {
      "text/html": [
       "<div>\n",
       "<style scoped>\n",
       "    .dataframe tbody tr th:only-of-type {\n",
       "        vertical-align: middle;\n",
       "    }\n",
       "\n",
       "    .dataframe tbody tr th {\n",
       "        vertical-align: top;\n",
       "    }\n",
       "\n",
       "    .dataframe thead th {\n",
       "        text-align: right;\n",
       "    }\n",
       "</style>\n",
       "<table border=\"1\" class=\"dataframe\">\n",
       "  <thead>\n",
       "    <tr style=\"text-align: right;\">\n",
       "      <th></th>\n",
       "      <th>customer_id</th>\n",
       "      <th>Name</th>\n",
       "      <th>Churn Score</th>\n",
       "    </tr>\n",
       "  </thead>\n",
       "  <tbody>\n",
       "    <tr>\n",
       "      <th>0</th>\n",
       "      <td>fffe43004900440031003700300030003400</td>\n",
       "      <td>Alethia Meints</td>\n",
       "      <td>3</td>\n",
       "    </tr>\n",
       "    <tr>\n",
       "      <th>1</th>\n",
       "      <td>fffe43004900440031003900370037003300</td>\n",
       "      <td>Ming Lopez</td>\n",
       "      <td>3</td>\n",
       "    </tr>\n",
       "    <tr>\n",
       "      <th>2</th>\n",
       "      <td>fffe43004900440034003800360037003000</td>\n",
       "      <td>Carina Flannigan</td>\n",
       "      <td>3</td>\n",
       "    </tr>\n",
       "    <tr>\n",
       "      <th>3</th>\n",
       "      <td>fffe43004900440036003200370033003400</td>\n",
       "      <td>Kyung Wanner</td>\n",
       "      <td>3</td>\n",
       "    </tr>\n",
       "    <tr>\n",
       "      <th>4</th>\n",
       "      <td>fffe43004900440035003000370031003900</td>\n",
       "      <td>Enola Gatto</td>\n",
       "      <td>5</td>\n",
       "    </tr>\n",
       "    <tr>\n",
       "      <th>...</th>\n",
       "      <td>...</td>\n",
       "      <td>...</td>\n",
       "      <td>...</td>\n",
       "    </tr>\n",
       "    <tr>\n",
       "      <th>19914</th>\n",
       "      <td>fffe43004900440035003600330037003800</td>\n",
       "      <td>Kraig Peele</td>\n",
       "      <td>3</td>\n",
       "    </tr>\n",
       "    <tr>\n",
       "      <th>19915</th>\n",
       "      <td>fffe43004900440032003900370037003100</td>\n",
       "      <td>Damaris Sabol</td>\n",
       "      <td>5</td>\n",
       "    </tr>\n",
       "    <tr>\n",
       "      <th>19916</th>\n",
       "      <td>fffe43004900440036003100310036003700</td>\n",
       "      <td>Loura Huckstep</td>\n",
       "      <td>5</td>\n",
       "    </tr>\n",
       "    <tr>\n",
       "      <th>19917</th>\n",
       "      <td>fffe43004900440034003200330033003600</td>\n",
       "      <td>Sharita Clubb</td>\n",
       "      <td>4</td>\n",
       "    </tr>\n",
       "    <tr>\n",
       "      <th>19918</th>\n",
       "      <td>fffe43004900440036003200340030003100</td>\n",
       "      <td>Ying Branum</td>\n",
       "      <td>3</td>\n",
       "    </tr>\n",
       "  </tbody>\n",
       "</table>\n",
       "<p>19919 rows × 3 columns</p>\n",
       "</div>"
      ],
      "text/plain": [
       "                                customer_id              Name  Churn Score\n",
       "0      fffe43004900440031003700300030003400    Alethia Meints            3\n",
       "1      fffe43004900440031003900370037003300        Ming Lopez            3\n",
       "2      fffe43004900440034003800360037003000  Carina Flannigan            3\n",
       "3      fffe43004900440036003200370033003400      Kyung Wanner            3\n",
       "4      fffe43004900440035003000370031003900       Enola Gatto            5\n",
       "...                                     ...               ...          ...\n",
       "19914  fffe43004900440035003600330037003800       Kraig Peele            3\n",
       "19915  fffe43004900440032003900370037003100     Damaris Sabol            5\n",
       "19916  fffe43004900440036003100310036003700    Loura Huckstep            5\n",
       "19917  fffe43004900440034003200330033003600     Sharita Clubb            4\n",
       "19918  fffe43004900440036003200340030003100       Ying Branum            3\n",
       "\n",
       "[19919 rows x 3 columns]"
      ]
     },
     "metadata": {},
     "execution_count": 221
    }
   ],
   "metadata": {}
  },
  {
   "cell_type": "code",
   "execution_count": 222,
   "source": [
    "Churn_Risk_Score.to_csv('Customer_Churn_Score Data.csv')"
   ],
   "outputs": [],
   "metadata": {}
  }
 ],
 "metadata": {
  "orig_nbformat": 4,
  "language_info": {
   "name": "python",
   "version": "3.9.6",
   "mimetype": "text/x-python",
   "codemirror_mode": {
    "name": "ipython",
    "version": 3
   },
   "pygments_lexer": "ipython3",
   "nbconvert_exporter": "python",
   "file_extension": ".py"
  },
  "kernelspec": {
   "name": "python3",
   "display_name": "Python 3.9.6 64-bit ('ML_algo': conda)"
  },
  "interpreter": {
   "hash": "3a32990f6da0d7abf7182fdf4d416d4dc1a912d9d1503f9139207ed8cae052ef"
  }
 },
 "nbformat": 4,
 "nbformat_minor": 2
}